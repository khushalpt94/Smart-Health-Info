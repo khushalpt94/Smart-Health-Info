{
  "nbformat": 4,
  "nbformat_minor": 0,
  "metadata": {
    "colab": {
      "name": "ProjectV2_test.ipynb",
      "provenance": [],
      "collapsed_sections": []
    },
    "kernelspec": {
      "name": "python3",
      "display_name": "Python 3"
    }
  },
  "cells": [
    {
      "cell_type": "markdown",
      "metadata": {
        "id": "3bUeksPav5v_",
        "colab_type": "text"
      },
      "source": [
        "# Table of contents\n",
        "\n",
        "1. Problem Description\n",
        "2. Environment & Libraries\n",
        "3. Data Preprocessing\n",
        "4. Baseline Modeling\n",
        "5. Dataset Refining\n",
        "6. Logistic Regression Model\n",
        "7. CNN Model\n",
        "8. Unbalance problem - Solution\n",
        "    - Undersampling\n",
        "    - Oversampling\n",
        "9. Conclusion"
      ]
    },
    {
      "cell_type": "markdown",
      "metadata": {
        "id": "lUTwQ5jtwhbl",
        "colab_type": "text"
      },
      "source": [
        "# 1. Problem description\n",
        "The project aims to predict the diagnostics needed for a patient with certain anamnesis automatically. \n",
        "\n",
        "When the patient visits the doctor to get a check up, the amnesis is noted down and stored as a raw file. This file contains the patient's medical information in a free way.\n",
        "\n",
        "The target labels are represented by the name of the needed diagnostics procedure.\n",
        "\n"
      ]
    },
    {
      "cell_type": "markdown",
      "metadata": {
        "id": "O1vS8sjsx8f3",
        "colab_type": "text"
      },
      "source": [
        "# 2. Environment & Libraries"
      ]
    },
    {
      "cell_type": "code",
      "metadata": {
        "id": "ilZ8buqgHzOc",
        "colab_type": "code",
        "colab": {
          "base_uri": "https://localhost:8080/",
          "height": 107
        },
        "outputId": "b990c08d-ff26-4257-f858-54d827991cbd"
      },
      "source": [
        "# Basic libraries\n",
        "\n",
        "import pandas as pd\n",
        "import numpy as np\n",
        "import re\n",
        "import matplotlib.pyplot as plt\n",
        "import nltk\n",
        "import random\n",
        "import itertools\n",
        "from collections import defaultdict\n",
        "import sys\n",
        "import os\n",
        "\n",
        "# Preprocessing\n",
        "\n",
        "from sklearn.preprocessing import LabelEncoder\n",
        "from sklearn.model_selection import train_test_split, StratifiedKFold\n",
        "from sklearn.feature_extraction.text import CountVectorizer, TfidfVectorizer\n",
        "from itertools import combinations\n",
        "from nltk.tokenize import RegexpTokenizer\n",
        "from nltk.corpus import stopwords\n",
        "from nltk.stem.porter import PorterStemmer\n",
        "import gensim\n",
        "from imblearn.under_sampling import NearMiss, RandomUnderSampler\n",
        "from imblearn.over_sampling import SMOTE, ADASYN\n",
        "from keras.preprocessing.text import Tokenizer\n",
        "from keras.preprocessing.sequence import pad_sequences\n",
        "from keras.utils import to_categorical\n",
        "\n",
        "# Models\n",
        "\n",
        "from sklearn.naive_bayes import MultinomialNB\n",
        "from sklearn.linear_model import LogisticRegressionCV\n",
        "import lightgbm as lgb\n",
        "#CNN Model\n",
        "from collections import defaultdict\n",
        "from bs4 import BeautifulSoup\n",
        "os.environ['KERAS_BACKEND']='theano' \n",
        "from keras.preprocessing.text import Tokenizer\n",
        "from keras.preprocessing.sequence import pad_sequences\n",
        "from keras.utils.np_utils import to_categorical\n",
        "from keras.layers import Embedding\n",
        "from keras.layers import Dense, Input, Flatten\n",
        "from keras.layers import Conv1D, MaxPooling1D, Embedding, Dropout, BatchNormalization\n",
        "from keras.models import Model\n",
        "from keras.callbacks import ModelCheckpoint\n",
        "from collections import Counter\n",
        "from sklearn.datasets import make_classification\n",
        "from sklearn import datasets, linear_model\n",
        "from sklearn.model_selection import train_test_split\n",
        "from matplotlib import pyplot as plt\n",
        "from keras.utils.vis_utils import plot_model\n",
        "plt.switch_backend('agg')\n",
        "\n",
        "# Evaluation\n",
        "\n",
        "from sklearn.metrics import f1_score, accuracy_score, precision_score, recall_score, confusion_matrix, make_scorer\n",
        "from sklearn.pipeline import make_pipeline\n",
        "from sklearn.metrics import confusion_matrix, accuracy_score\n",
        "import warnings\n",
        "warnings.filterwarnings(\"ignore\")\n",
        "%matplotlib inline\n",
        "from keras import backend as K\n",
        "from keras.models import load_model\n",
        "from sklearn import metrics\n",
        "from sklearn.metrics import classification_report\n",
        "import numpy as np\n",
        "import matplotlib.pyplot as plt\n"
      ],
      "execution_count": 1,
      "outputs": [
        {
          "output_type": "stream",
          "text": [
            "/usr/local/lib/python3.6/dist-packages/sklearn/externals/six.py:31: FutureWarning: The module is deprecated in version 0.21 and will be removed in version 0.23 since we've dropped support for Python 2.7. Please rely on the official version of six (https://pypi.org/project/six/).\n",
            "  \"(https://pypi.org/project/six/).\", FutureWarning)\n",
            "/usr/local/lib/python3.6/dist-packages/sklearn/utils/deprecation.py:144: FutureWarning: The sklearn.neighbors.base module is  deprecated in version 0.22 and will be removed in version 0.24. The corresponding classes / functions should instead be imported from sklearn.neighbors. Anything that cannot be imported from sklearn.neighbors is now part of the private API.\n",
            "  warnings.warn(message, FutureWarning)\n"
          ],
          "name": "stderr"
        }
      ]
    },
    {
      "cell_type": "code",
      "metadata": {
        "id": "jLkzSbYwaQh-",
        "colab_type": "code",
        "colab": {
          "base_uri": "https://localhost:8080/",
          "height": 124
        },
        "outputId": "29cf4d0f-17e0-4cb4-dc76-ef913d8628c0"
      },
      "source": [
        "# mounting the google drive to read the files (dataset and GloVE)\n",
        "from google.colab import drive\n",
        "drive.mount('/content/drive')"
      ],
      "execution_count": 2,
      "outputs": [
        {
          "output_type": "stream",
          "text": [
            "Go to this URL in a browser: https://accounts.google.com/o/oauth2/auth?client_id=947318989803-6bn6qk8qdgf4n4g3pfee6491hc0brc4i.apps.googleusercontent.com&redirect_uri=urn%3aietf%3awg%3aoauth%3a2.0%3aoob&scope=email%20https%3a%2f%2fwww.googleapis.com%2fauth%2fdocs.test%20https%3a%2f%2fwww.googleapis.com%2fauth%2fdrive%20https%3a%2f%2fwww.googleapis.com%2fauth%2fdrive.photos.readonly%20https%3a%2f%2fwww.googleapis.com%2fauth%2fpeopleapi.readonly&response_type=code\n",
            "\n",
            "Enter your authorization code:\n",
            "··········\n",
            "Mounted at /content/drive\n"
          ],
          "name": "stdout"
        }
      ]
    },
    {
      "cell_type": "code",
      "metadata": {
        "id": "8ROztaWfH2wT",
        "colab_type": "code",
        "colab": {
          "base_uri": "https://localhost:8080/",
          "height": 306
        },
        "outputId": "2c4edf54-0258-45a3-e708-fe7a9d3a7846"
      },
      "source": [
        "# reading the mtsamples dataset\n",
        "MTdata = pd.read_csv('/content/drive/My Drive/HI_Project/mtsamples.csv')\n",
        "MTdata.head() # viewing the first 5 entries of the dataset"
      ],
      "execution_count": 3,
      "outputs": [
        {
          "output_type": "execute_result",
          "data": {
            "text/html": [
              "<div>\n",
              "<style scoped>\n",
              "    .dataframe tbody tr th:only-of-type {\n",
              "        vertical-align: middle;\n",
              "    }\n",
              "\n",
              "    .dataframe tbody tr th {\n",
              "        vertical-align: top;\n",
              "    }\n",
              "\n",
              "    .dataframe thead th {\n",
              "        text-align: right;\n",
              "    }\n",
              "</style>\n",
              "<table border=\"1\" class=\"dataframe\">\n",
              "  <thead>\n",
              "    <tr style=\"text-align: right;\">\n",
              "      <th></th>\n",
              "      <th>Unnamed: 0</th>\n",
              "      <th>description</th>\n",
              "      <th>medical_specialty</th>\n",
              "      <th>sample_name</th>\n",
              "      <th>transcription</th>\n",
              "      <th>keywords</th>\n",
              "    </tr>\n",
              "  </thead>\n",
              "  <tbody>\n",
              "    <tr>\n",
              "      <th>0</th>\n",
              "      <td>0</td>\n",
              "      <td>A 23-year-old white female presents with comp...</td>\n",
              "      <td>Allergy / Immunology</td>\n",
              "      <td>Allergic Rhinitis</td>\n",
              "      <td>SUBJECTIVE:,  This 23-year-old white female pr...</td>\n",
              "      <td>allergy / immunology, allergic rhinitis, aller...</td>\n",
              "    </tr>\n",
              "    <tr>\n",
              "      <th>1</th>\n",
              "      <td>1</td>\n",
              "      <td>Consult for laparoscopic gastric bypass.</td>\n",
              "      <td>Bariatrics</td>\n",
              "      <td>Laparoscopic Gastric Bypass Consult - 2</td>\n",
              "      <td>PAST MEDICAL HISTORY:, He has difficulty climb...</td>\n",
              "      <td>bariatrics, laparoscopic gastric bypass, weigh...</td>\n",
              "    </tr>\n",
              "    <tr>\n",
              "      <th>2</th>\n",
              "      <td>2</td>\n",
              "      <td>Consult for laparoscopic gastric bypass.</td>\n",
              "      <td>Bariatrics</td>\n",
              "      <td>Laparoscopic Gastric Bypass Consult - 1</td>\n",
              "      <td>HISTORY OF PRESENT ILLNESS: , I have seen ABC ...</td>\n",
              "      <td>bariatrics, laparoscopic gastric bypass, heart...</td>\n",
              "    </tr>\n",
              "    <tr>\n",
              "      <th>3</th>\n",
              "      <td>3</td>\n",
              "      <td>2-D M-Mode. Doppler.</td>\n",
              "      <td>Cardiovascular / Pulmonary</td>\n",
              "      <td>2-D Echocardiogram - 1</td>\n",
              "      <td>2-D M-MODE: , ,1.  Left atrial enlargement wit...</td>\n",
              "      <td>cardiovascular / pulmonary, 2-d m-mode, dopple...</td>\n",
              "    </tr>\n",
              "    <tr>\n",
              "      <th>4</th>\n",
              "      <td>4</td>\n",
              "      <td>2-D Echocardiogram</td>\n",
              "      <td>Cardiovascular / Pulmonary</td>\n",
              "      <td>2-D Echocardiogram - 2</td>\n",
              "      <td>1.  The left ventricular cavity size and wall ...</td>\n",
              "      <td>cardiovascular / pulmonary, 2-d, doppler, echo...</td>\n",
              "    </tr>\n",
              "  </tbody>\n",
              "</table>\n",
              "</div>"
            ],
            "text/plain": [
              "   Unnamed: 0  ...                                           keywords\n",
              "0           0  ...  allergy / immunology, allergic rhinitis, aller...\n",
              "1           1  ...  bariatrics, laparoscopic gastric bypass, weigh...\n",
              "2           2  ...  bariatrics, laparoscopic gastric bypass, heart...\n",
              "3           3  ...  cardiovascular / pulmonary, 2-d m-mode, dopple...\n",
              "4           4  ...  cardiovascular / pulmonary, 2-d, doppler, echo...\n",
              "\n",
              "[5 rows x 6 columns]"
            ]
          },
          "metadata": {
            "tags": []
          },
          "execution_count": 3
        }
      ]
    },
    {
      "cell_type": "markdown",
      "metadata": {
        "id": "WRRiCpx8ycHE",
        "colab_type": "text"
      },
      "source": [
        "# 3. Data Preprocessing"
      ]
    },
    {
      "cell_type": "code",
      "metadata": {
        "id": "KLPG_Bi121_U",
        "colab_type": "code",
        "colab": {
          "base_uri": "https://localhost:8080/",
          "height": 139
        },
        "outputId": "f688bbbf-1c2e-4876-eb1c-5a38078edad9"
      },
      "source": [
        "# creating a sample variable to check the various nlp preprocessing steps\n",
        "sample_text = MTdata.iloc[0,4]\n",
        "sample_text"
      ],
      "execution_count": 4,
      "outputs": [
        {
          "output_type": "execute_result",
          "data": {
            "application/vnd.google.colaboratory.intrinsic+json": {
              "type": "string"
            },
            "text/plain": [
              "'SUBJECTIVE:,  This 23-year-old white female presents with complaint of allergies.  She used to have allergies when she lived in Seattle but she thinks they are worse here.  In the past, she has tried Claritin, and Zyrtec.  Both worked for short time but then seemed to lose effectiveness.  She has used Allegra also.  She used that last summer and she began using it again two weeks ago.  It does not appear to be working very well.  She has used over-the-counter sprays but no prescription nasal sprays.  She does have asthma but doest not require daily medication for this and does not think it is flaring up.,MEDICATIONS: , Her only medication currently is Ortho Tri-Cyclen and the Allegra.,ALLERGIES: , She has no known medicine allergies.,OBJECTIVE:,Vitals:  Weight was 130 pounds and blood pressure 124/78.,HEENT:  Her throat was mildly erythematous without exudate.  Nasal mucosa was erythematous and swollen.  Only clear drainage was seen.  TMs were clear.,Neck:  Supple without adenopathy.,Lungs:  Clear.,ASSESSMENT:,  Allergic rhinitis.,PLAN:,1.  She will try Zyrtec instead of Allegra again.  Another option will be to use loratadine.  She does not think she has prescription coverage so that might be cheaper.,2.  Samples of Nasonex two sprays in each nostril given for three weeks.  A prescription was written as well.'"
            ]
          },
          "metadata": {
            "tags": []
          },
          "execution_count": 4
        }
      ]
    },
    {
      "cell_type": "code",
      "metadata": {
        "id": "pAvBJJ7OH8qe",
        "colab_type": "code",
        "colab": {}
      },
      "source": [
        "# only utilising the columns transcription and medical speciality as they are required for the logistic regression classifier model to predict the diagnosis\n",
        "MTdata = MTdata[['transcription', 'medical_specialty']]\n",
        "MTdata = MTdata.drop(MTdata[MTdata['transcription'].isna()].index) # also filtering the data set for any null values"
      ],
      "execution_count": 5,
      "outputs": []
    },
    {
      "cell_type": "code",
      "metadata": {
        "id": "3lk_lcZUIGg5",
        "colab_type": "code",
        "colab": {
          "base_uri": "https://localhost:8080/",
          "height": 728
        },
        "outputId": "e6e7970d-89ac-4c7c-b4a4-befa4c9acb93"
      },
      "source": [
        "# providing the count for every speciality in the dataset\n",
        "MTdata['medical_specialty'].value_counts()"
      ],
      "execution_count": 6,
      "outputs": [
        {
          "output_type": "execute_result",
          "data": {
            "text/plain": [
              " Surgery                          1088\n",
              " Consult - History and Phy.        516\n",
              " Cardiovascular / Pulmonary        371\n",
              " Orthopedic                        355\n",
              " Radiology                         273\n",
              " General Medicine                  259\n",
              " Gastroenterology                  224\n",
              " Neurology                         223\n",
              " SOAP / Chart / Progress Notes     166\n",
              " Urology                           156\n",
              " Obstetrics / Gynecology           155\n",
              " Discharge Summary                 108\n",
              " ENT - Otolaryngology               96\n",
              " Neurosurgery                       94\n",
              " Hematology - Oncology              90\n",
              " Ophthalmology                      83\n",
              " Nephrology                         81\n",
              " Emergency Room Reports             75\n",
              " Pediatrics - Neonatal              70\n",
              " Pain Management                    61\n",
              " Psychiatry / Psychology            53\n",
              " Office Notes                       50\n",
              " Podiatry                           47\n",
              " Dermatology                        29\n",
              " Cosmetic / Plastic Surgery         27\n",
              " Dentistry                          27\n",
              " Letters                            23\n",
              " Physical Medicine - Rehab          21\n",
              " Sleep Medicine                     20\n",
              " Endocrinology                      19\n",
              " Bariatrics                         18\n",
              " IME-QME-Work Comp etc.             16\n",
              " Chiropractic                       14\n",
              " Diets and Nutritions               10\n",
              " Rheumatology                       10\n",
              " Speech - Language                   9\n",
              " Autopsy                             8\n",
              " Lab Medicine - Pathology            8\n",
              " Allergy / Immunology                7\n",
              " Hospice - Palliative Care           6\n",
              "Name: medical_specialty, dtype: int64"
            ]
          },
          "metadata": {
            "tags": []
          },
          "execution_count": 6
        }
      ]
    },
    {
      "cell_type": "code",
      "metadata": {
        "id": "jYIrXd5TIK6R",
        "colab_type": "code",
        "colab": {
          "base_uri": "https://localhost:8080/",
          "height": 52
        },
        "outputId": "b4fc811c-e806-4e02-b527-b2bd4dd8994b"
      },
      "source": [
        "# checking the sentence structure\n",
        "\n",
        "tokenizer = RegexpTokenizer(r'\\w+')\n",
        "MTdata[\"tokens\"] = MTdata[\"transcription\"].apply(tokenizer.tokenize)\n",
        "\n",
        "# Create a list of tokens for each sentence\n",
        "\n",
        "words_list = [word for tokens in MTdata[\"tokens\"] for word in tokens]\n",
        "sentence_len = [len(tokens) for tokens in MTdata[\"tokens\"]]\n",
        "Dictionary = sorted(list(set(words_list))) # creating a dictionary of word list\n",
        "print(\"%s words total, with a vocabulary size of %s\" % (len(words_list), len(Dictionary)))\n",
        "print(\"Max sentence length is %s\" % max(sentence_len))"
      ],
      "execution_count": 7,
      "outputs": [
        {
          "output_type": "stream",
          "text": [
            "2420937 words total, with a vocabulary size of 28581\n",
            "Max sentence length is 3114\n"
          ],
          "name": "stdout"
        }
      ]
    },
    {
      "cell_type": "code",
      "metadata": {
        "id": "QP0jd1uEIrwj",
        "colab_type": "code",
        "colab": {
          "base_uri": "https://localhost:8080/",
          "height": 621
        },
        "outputId": "10ccea0d-ba8b-4e53-ea7c-c28575204eb2"
      },
      "source": [
        "# creating a histogram of the number of sentences with respect to the number of words in each\n",
        "fig1 = plt.figure(figsize=(10, 10)) \n",
        "plt.title('Histogram - Sentence length ')\n",
        "plt.xlabel('Sentence length')\n",
        "plt.ylabel('Number of sentences')\n",
        "plt.hist(sentence_len, edgecolor = 'black', bins = 20)\n",
        "plt.savefig('Histogram.png')\n",
        "plt.show()"
      ],
      "execution_count": 8,
      "outputs": [
        {
          "output_type": "display_data",
          "data": {
            "image/png": "[encoded data removed]",
            "text/plain": [
              "<Figure size 720x720 with 1 Axes>"
            ]
          },
          "metadata": {
            "tags": [],
            "needs_background": "light"
          }
        }
      ]
    },
    {
      "cell_type": "code",
      "metadata": {
        "id": "yXf3nzO2I3k2",
        "colab_type": "code",
        "colab": {
          "base_uri": "https://localhost:8080/",
          "height": 52
        },
        "outputId": "75cbcce1-3ad2-4fcc-eded-1a7772bc5a89"
      },
      "source": [
        "print(f\"Median sentence length {np.median(sentence_len)}\")\n",
        "print(f\"Mean sentence length {round(np.mean(sentence_len), 2)}\")"
      ],
      "execution_count": 9,
      "outputs": [
        {
          "output_type": "stream",
          "text": [
            "Median sentence length 421.5\n",
            "Mean sentence length 487.5\n"
          ],
          "name": "stdout"
        }
      ]
    },
    {
      "cell_type": "markdown",
      "metadata": {
        "id": "y4kHJwPPkpqR",
        "colab_type": "text"
      },
      "source": [
        "<b>Text preparation"
      ]
    },
    {
      "cell_type": "code",
      "metadata": {
        "id": "s4Au9EtdI8wW",
        "colab_type": "code",
        "colab": {}
      },
      "source": [
        "# creating a main function to perform tokenization, encoding and call other preprocessing functions\n",
        "\n",
        "def preprocess(df):\n",
        "    \n",
        "    temp = df.copy(deep = True)\n",
        "    \n",
        "    temp = temp.rename(index = str, columns = {'transcription': 'text'})\n",
        "    \n",
        "    temp.loc[:, 'text'] = [prepare(x) for x in temp['text'].values] #Calling the prepare() \n",
        "    temp.loc[:, 'text'] = [lemmatize_text(x) for x in temp['text'].values] #Calling the lemmatize() \n",
        "    \n",
        "    le = LabelEncoder() # Using Label Encoder to encode the medical specialities into digits\n",
        "    le.fit(temp['medical_specialty'])\n",
        "    temp.loc[:, 'class_label'] = le.transform(temp['medical_specialty'])\n",
        "    \n",
        "    tokenizer = RegexpTokenizer(r'\\w+') # Tokenizing the transcrtiption column\n",
        "\n",
        "    temp[\"tokens\"] = temp[\"text\"].apply(tokenizer.tokenize)\n",
        "    \n",
        "    return temp\n",
        "\n",
        "\n",
        "\n"
      ],
      "execution_count": 10,
      "outputs": []
    },
    {
      "cell_type": "code",
      "metadata": {
        "id": "m_3InTs4JANz",
        "colab_type": "code",
        "colab": {}
      },
      "source": [
        "def prepare(text):\n",
        "\n",
        "    BAD_SYMBOLS = re.compile('[^0-9a-z #+_]')\n",
        "    REPLACE_BY_SPACE = re.compile('[/(){}\\[\\]\\|@,;]')\n",
        "    \n",
        "    STOP_WORDS = set(stopwords.words('english'))\n",
        "        \n",
        "    text = REPLACE_BY_SPACE.sub('', text) # replace REPLACE_BY_SPACE symbols by space in text\n",
        "    text = BAD_SYMBOLS.sub('', text) # delete symbols which are in BAD_SYMBOLS from text\n",
        "    text = text.lower() # convert the characters into lower case\n",
        "\n",
        "    words = text.split()\n",
        "\n",
        "    i = 0\n",
        "    \n",
        "    while i < len(words):\n",
        "        if words[i] in STOP_WORDS:\n",
        "            words.pop(i)\n",
        "        else:\n",
        "            i += 1\n",
        "    text = ' '.join(map(str, words))# delete stopwords from text\n",
        "    \n",
        "    return text"
      ],
      "execution_count": 11,
      "outputs": []
    },
    {
      "cell_type": "code",
      "metadata": {
        "id": "4hQ0jD4s4wU1",
        "colab_type": "code",
        "colab": {
          "base_uri": "https://localhost:8080/",
          "height": 505
        },
        "outputId": "8896fa71-ba43-444b-98a1-d21a73146a5a"
      },
      "source": [
        "# spacy instaler for 'en' used to lemmatize\n",
        "!python -m spacy download en"
      ],
      "execution_count": 12,
      "outputs": [
        {
          "output_type": "stream",
          "text": [
            "Requirement already satisfied: en_core_web_sm==2.2.5 from https://github.com/explosion/spacy-models/releases/download/en_core_web_sm-2.2.5/en_core_web_sm-2.2.5.tar.gz#egg=en_core_web_sm==2.2.5 in /usr/local/lib/python3.6/dist-packages (2.2.5)\n",
            "Requirement already satisfied: spacy>=2.2.2 in /usr/local/lib/python3.6/dist-packages (from en_core_web_sm==2.2.5) (2.2.4)\n",
            "Requirement already satisfied: numpy>=1.15.0 in /usr/local/lib/python3.6/dist-packages (from spacy>=2.2.2->en_core_web_sm==2.2.5) (1.18.5)\n",
            "Requirement already satisfied: requests<3.0.0,>=2.13.0 in /usr/local/lib/python3.6/dist-packages (from spacy>=2.2.2->en_core_web_sm==2.2.5) (2.23.0)\n",
            "Requirement already satisfied: cymem<2.1.0,>=2.0.2 in /usr/local/lib/python3.6/dist-packages (from spacy>=2.2.2->en_core_web_sm==2.2.5) (2.0.3)\n",
            "Requirement already satisfied: wasabi<1.1.0,>=0.4.0 in /usr/local/lib/python3.6/dist-packages (from spacy>=2.2.2->en_core_web_sm==2.2.5) (0.7.1)\n",
            "Requirement already satisfied: preshed<3.1.0,>=3.0.2 in /usr/local/lib/python3.6/dist-packages (from spacy>=2.2.2->en_core_web_sm==2.2.5) (3.0.2)\n",
            "Requirement already satisfied: catalogue<1.1.0,>=0.0.7 in /usr/local/lib/python3.6/dist-packages (from spacy>=2.2.2->en_core_web_sm==2.2.5) (1.0.0)\n",
            "Requirement already satisfied: plac<1.2.0,>=0.9.6 in /usr/local/lib/python3.6/dist-packages (from spacy>=2.2.2->en_core_web_sm==2.2.5) (1.1.3)\n",
            "Requirement already satisfied: thinc==7.4.0 in /usr/local/lib/python3.6/dist-packages (from spacy>=2.2.2->en_core_web_sm==2.2.5) (7.4.0)\n",
            "Requirement already satisfied: tqdm<5.0.0,>=4.38.0 in /usr/local/lib/python3.6/dist-packages (from spacy>=2.2.2->en_core_web_sm==2.2.5) (4.41.1)\n",
            "Requirement already satisfied: setuptools in /usr/local/lib/python3.6/dist-packages (from spacy>=2.2.2->en_core_web_sm==2.2.5) (49.2.0)\n",
            "Requirement already satisfied: blis<0.5.0,>=0.4.0 in /usr/local/lib/python3.6/dist-packages (from spacy>=2.2.2->en_core_web_sm==2.2.5) (0.4.1)\n",
            "Requirement already satisfied: srsly<1.1.0,>=1.0.2 in /usr/local/lib/python3.6/dist-packages (from spacy>=2.2.2->en_core_web_sm==2.2.5) (1.0.2)\n",
            "Requirement already satisfied: murmurhash<1.1.0,>=0.28.0 in /usr/local/lib/python3.6/dist-packages (from spacy>=2.2.2->en_core_web_sm==2.2.5) (1.0.2)\n",
            "Requirement already satisfied: chardet<4,>=3.0.2 in /usr/local/lib/python3.6/dist-packages (from requests<3.0.0,>=2.13.0->spacy>=2.2.2->en_core_web_sm==2.2.5) (3.0.4)\n",
            "Requirement already satisfied: idna<3,>=2.5 in /usr/local/lib/python3.6/dist-packages (from requests<3.0.0,>=2.13.0->spacy>=2.2.2->en_core_web_sm==2.2.5) (2.10)\n",
            "Requirement already satisfied: urllib3!=1.25.0,!=1.25.1,<1.26,>=1.21.1 in /usr/local/lib/python3.6/dist-packages (from requests<3.0.0,>=2.13.0->spacy>=2.2.2->en_core_web_sm==2.2.5) (1.24.3)\n",
            "Requirement already satisfied: certifi>=2017.4.17 in /usr/local/lib/python3.6/dist-packages (from requests<3.0.0,>=2.13.0->spacy>=2.2.2->en_core_web_sm==2.2.5) (2020.6.20)\n",
            "Requirement already satisfied: importlib-metadata>=0.20; python_version < \"3.8\" in /usr/local/lib/python3.6/dist-packages (from catalogue<1.1.0,>=0.0.7->spacy>=2.2.2->en_core_web_sm==2.2.5) (1.7.0)\n",
            "Requirement already satisfied: zipp>=0.5 in /usr/local/lib/python3.6/dist-packages (from importlib-metadata>=0.20; python_version < \"3.8\"->catalogue<1.1.0,>=0.0.7->spacy>=2.2.2->en_core_web_sm==2.2.5) (3.1.0)\n",
            "\u001b[38;5;2m✔ Download and installation successful\u001b[0m\n",
            "You can now load the model via spacy.load('en_core_web_sm')\n",
            "\u001b[38;5;2m✔ Linking successful\u001b[0m\n",
            "/usr/local/lib/python3.6/dist-packages/en_core_web_sm -->\n",
            "/usr/local/lib/python3.6/dist-packages/spacy/data/en\n",
            "You can now load the model via spacy.load('en')\n"
          ],
          "name": "stdout"
        }
      ]
    },
    {
      "cell_type": "code",
      "metadata": {
        "id": "VUiNG_qs42u_",
        "colab_type": "code",
        "colab": {
          "base_uri": "https://localhost:8080/",
          "height": 69
        },
        "outputId": "673369d9-1479-4f50-b1fd-360a8cc173ca"
      },
      "source": [
        "# using nltk to fetch the list of stop words \n",
        "import nltk\n",
        "nltk.download('stopwords')"
      ],
      "execution_count": 13,
      "outputs": [
        {
          "output_type": "stream",
          "text": [
            "[nltk_data] Downloading package stopwords to /root/nltk_data...\n",
            "[nltk_data]   Unzipping corpora/stopwords.zip.\n"
          ],
          "name": "stdout"
        },
        {
          "output_type": "execute_result",
          "data": {
            "text/plain": [
              "True"
            ]
          },
          "metadata": {
            "tags": []
          },
          "execution_count": 13
        }
      ]
    },
    {
      "cell_type": "code",
      "metadata": {
        "id": "cSLUy8nG440Y",
        "colab_type": "code",
        "colab": {}
      },
      "source": [
        "# importing spacy to depict the natural language processing on a sample transcription\n",
        "import spacy \n",
        "from spacy import displacy"
      ],
      "execution_count": 14,
      "outputs": []
    },
    {
      "cell_type": "code",
      "metadata": {
        "id": "BmMKAzZB46-G",
        "colab_type": "code",
        "colab": {}
      },
      "source": [
        "nlp = spacy.load('en')"
      ],
      "execution_count": 15,
      "outputs": []
    },
    {
      "cell_type": "code",
      "metadata": {
        "id": "6OrLngxa49Lw",
        "colab_type": "code",
        "colab": {}
      },
      "source": [
        "# performs lemmatization\n",
        "def lemmatize_text(text): \n",
        "    text = nlp(text)\n",
        "    text = ' '.join([word.lemma_ if word.lemma_ != '-PRON-' else word.text for word in text])\n",
        "    return text"
      ],
      "execution_count": 16,
      "outputs": []
    },
    {
      "cell_type": "code",
      "metadata": {
        "id": "rWN2P2nzJBxn",
        "colab_type": "code",
        "colab": {}
      },
      "source": [
        "# Evaluation Metrics\n",
        "\n",
        "def metrics(y_test, y_predicted):  \n",
        "\n",
        "    precision = precision_score(y_test, y_predicted, average='weighted')             \n",
        "\n",
        "    recall = recall_score(y_test, y_predicted, average='weighted')\n",
        "    \n",
        "    f1 = f1_score(y_test, y_predicted, average='weighted')\n",
        "    \n",
        "    accuracy = accuracy_score(y_test, y_predicted)\n",
        "    return accuracy, precision, recall, f1"
      ],
      "execution_count": 17,
      "outputs": []
    },
    {
      "cell_type": "code",
      "metadata": {
        "id": "n0iOcgJQ6hjg",
        "colab_type": "code",
        "colab": {}
      },
      "source": [
        "prepare_sample = prepare(sample_text)"
      ],
      "execution_count": 18,
      "outputs": []
    },
    {
      "cell_type": "code",
      "metadata": {
        "id": "hotGpVtl5AUl",
        "colab_type": "code",
        "colab": {
          "base_uri": "https://localhost:8080/",
          "height": 89
        },
        "outputId": "9319a15e-a5fd-4a6c-96d1-e77981d39e0c"
      },
      "source": [
        "# making use of a sample value to visualise the feature of spacy with respect to nlp\n",
        "lemma_sample = lemmatize_text(prepare_sample)\n",
        "print(type(lemma_sample))\n",
        "lemma_sample = nlp(lemma_sample)\n",
        "print(type(lemma_sample))\n",
        "lemma_sample"
      ],
      "execution_count": 19,
      "outputs": [
        {
          "output_type": "stream",
          "text": [
            "<class 'str'>\n",
            "<class 'spacy.tokens.doc.Doc'>\n"
          ],
          "name": "stdout"
        },
        {
          "output_type": "execute_result",
          "data": {
            "text/plain": [
              "23yearold white female present complaint allergy use allergy live eattle think bad n past try laritin yrtec oth work short time seem lose effectiveness use llegra also use last summer begin use two week ago appear work well use overthecounter spray prescription nasal spray asthma do require daily medication think flare er medication currently rtho riyclen llegra know medicine allergiesital eight 130 pound blood pressure 12478 er throat mildly erythematous without exudate asal mucosa erythematous swollen nly clear drainage see cleareck upple without adenopathyungs lear llergic rhinitis1 try yrtec instead llegra nother option use loratadine think prescription coverage may cheaper2 amples asonex two spray nostril give three week prescription write well"
            ]
          },
          "metadata": {
            "tags": []
          },
          "execution_count": 19
        }
      ]
    },
    {
      "cell_type": "code",
      "metadata": {
        "id": "fnF7R8QH5qlM",
        "colab_type": "code",
        "colab": {
          "base_uri": "https://localhost:8080/",
          "height": 191
        },
        "outputId": "257d77e0-cffd-4198-df8c-0eb5aea60fd5"
      },
      "source": [
        "# using spacy to visualize a named entity annotated transcription\n",
        "displacy.render(lemma_sample, style='ent', jupyter=True)"
      ],
      "execution_count": 20,
      "outputs": [
        {
          "output_type": "display_data",
          "data": {
            "text/html": [
              "<span class=\"tex2jax_ignore\"><div class=\"entities\" style=\"line-height: 2.5; direction: ltr\">23yearold white female present complaint allergy use allergy live eattle think bad n past try laritin yrtec oth work short time seem lose effectiveness use llegra also use \n",
              "<mark class=\"entity\" style=\"background: #bfe1d9; padding: 0.45em 0.6em; margin: 0 0.25em; line-height: 1; border-radius: 0.35em;\">\n",
              "    last summer\n",
              "    <span style=\"font-size: 0.8em; font-weight: bold; line-height: 1; border-radius: 0.35em; text-transform: uppercase; vertical-align: middle; margin-left: 0.5rem\">DATE</span>\n",
              "</mark>\n",
              " begin use \n",
              "<mark class=\"entity\" style=\"background: #bfe1d9; padding: 0.45em 0.6em; margin: 0 0.25em; line-height: 1; border-radius: 0.35em;\">\n",
              "    two week ago\n",
              "    <span style=\"font-size: 0.8em; font-weight: bold; line-height: 1; border-radius: 0.35em; text-transform: uppercase; vertical-align: middle; margin-left: 0.5rem\">DATE</span>\n",
              "</mark>\n",
              " appear work well use overthecounter spray prescription nasal spray asthma do require \n",
              "<mark class=\"entity\" style=\"background: #bfe1d9; padding: 0.45em 0.6em; margin: 0 0.25em; line-height: 1; border-radius: 0.35em;\">\n",
              "    daily\n",
              "    <span style=\"font-size: 0.8em; font-weight: bold; line-height: 1; border-radius: 0.35em; text-transform: uppercase; vertical-align: middle; margin-left: 0.5rem\">DATE</span>\n",
              "</mark>\n",
              " medication think flare er medication currently rtho riyclen llegra know medicine allergiesital \n",
              "<mark class=\"entity\" style=\"background: #e4e7d2; padding: 0.45em 0.6em; margin: 0 0.25em; line-height: 1; border-radius: 0.35em;\">\n",
              "    eight 130 pound\n",
              "    <span style=\"font-size: 0.8em; font-weight: bold; line-height: 1; border-radius: 0.35em; text-transform: uppercase; vertical-align: middle; margin-left: 0.5rem\">QUANTITY</span>\n",
              "</mark>\n",
              " blood pressure \n",
              "<mark class=\"entity\" style=\"background: #bfe1d9; padding: 0.45em 0.6em; margin: 0 0.25em; line-height: 1; border-radius: 0.35em;\">\n",
              "    12478\n",
              "    <span style=\"font-size: 0.8em; font-weight: bold; line-height: 1; border-radius: 0.35em; text-transform: uppercase; vertical-align: middle; margin-left: 0.5rem\">DATE</span>\n",
              "</mark>\n",
              " er throat mildly erythematous without exudate asal mucosa erythematous swollen nly clear drainage see cleareck upple without adenopathyungs lear llergic rhinitis1 try yrtec instead llegra nother option use loratadine think prescription coverage may cheaper2 amples asonex \n",
              "<mark class=\"entity\" style=\"background: #e4e7d2; padding: 0.45em 0.6em; margin: 0 0.25em; line-height: 1; border-radius: 0.35em;\">\n",
              "    two\n",
              "    <span style=\"font-size: 0.8em; font-weight: bold; line-height: 1; border-radius: 0.35em; text-transform: uppercase; vertical-align: middle; margin-left: 0.5rem\">CARDINAL</span>\n",
              "</mark>\n",
              " spray nostril give \n",
              "<mark class=\"entity\" style=\"background: #bfe1d9; padding: 0.45em 0.6em; margin: 0 0.25em; line-height: 1; border-radius: 0.35em;\">\n",
              "    three week\n",
              "    <span style=\"font-size: 0.8em; font-weight: bold; line-height: 1; border-radius: 0.35em; text-transform: uppercase; vertical-align: middle; margin-left: 0.5rem\">DATE</span>\n",
              "</mark>\n",
              " prescription write well</div></span>"
            ],
            "text/plain": [
              "<IPython.core.display.HTML object>"
            ]
          },
          "metadata": {
            "tags": []
          }
        }
      ]
    },
    {
      "cell_type": "code",
      "metadata": {
        "id": "LC_oYd-y6zrL",
        "colab_type": "code",
        "colab": {
          "base_uri": "https://localhost:8080/",
          "height": 338
        },
        "outputId": "d2284d18-979a-466b-8d9a-8f4ee2392676"
      },
      "source": [
        "\n",
        "# visualizing the dependency tree for the first sentenece in sample transcription\n",
        "\n",
        "doc = nlp('subjective this 23-year - old white female present with complaint of allergy')\n",
        "displacy.render(doc, style='dep', jupyter=True, options={'distance': 90})"
      ],
      "execution_count": 21,
      "outputs": [
        {
          "output_type": "display_data",
          "data": {
            "text/html": [
              "<span class=\"tex2jax_ignore\"><svg xmlns=\"http://www.w3.org/2000/svg\" xmlns:xlink=\"http://www.w3.org/1999/xlink\" xml:lang=\"en\" id=\"25289119c2334eae814079a98ab2f7ba-0\" class=\"displacy\" width=\"1040\" height=\"317.0\" direction=\"ltr\" style=\"max-width: none; height: 317.0px; color: #000000; background: #ffffff; font-family: Arial; direction: ltr\">\n",
              "<text class=\"displacy-token\" fill=\"currentColor\" text-anchor=\"middle\" y=\"227.0\">\n",
              "    <tspan class=\"displacy-word\" fill=\"currentColor\" x=\"50\">subjective</tspan>\n",
              "    <tspan class=\"displacy-tag\" dy=\"2em\" fill=\"currentColor\" x=\"50\">ADJ</tspan>\n",
              "</text>\n",
              "\n",
              "<text class=\"displacy-token\" fill=\"currentColor\" text-anchor=\"middle\" y=\"227.0\">\n",
              "    <tspan class=\"displacy-word\" fill=\"currentColor\" x=\"140\">this</tspan>\n",
              "    <tspan class=\"displacy-tag\" dy=\"2em\" fill=\"currentColor\" x=\"140\">DET</tspan>\n",
              "</text>\n",
              "\n",
              "<text class=\"displacy-token\" fill=\"currentColor\" text-anchor=\"middle\" y=\"227.0\">\n",
              "    <tspan class=\"displacy-word\" fill=\"currentColor\" x=\"230\">23-year -</tspan>\n",
              "    <tspan class=\"displacy-tag\" dy=\"2em\" fill=\"currentColor\" x=\"230\">NUM</tspan>\n",
              "</text>\n",
              "\n",
              "<text class=\"displacy-token\" fill=\"currentColor\" text-anchor=\"middle\" y=\"227.0\">\n",
              "    <tspan class=\"displacy-word\" fill=\"currentColor\" x=\"320\">old</tspan>\n",
              "    <tspan class=\"displacy-tag\" dy=\"2em\" fill=\"currentColor\" x=\"320\">ADJ</tspan>\n",
              "</text>\n",
              "\n",
              "<text class=\"displacy-token\" fill=\"currentColor\" text-anchor=\"middle\" y=\"227.0\">\n",
              "    <tspan class=\"displacy-word\" fill=\"currentColor\" x=\"410\">white</tspan>\n",
              "    <tspan class=\"displacy-tag\" dy=\"2em\" fill=\"currentColor\" x=\"410\">ADJ</tspan>\n",
              "</text>\n",
              "\n",
              "<text class=\"displacy-token\" fill=\"currentColor\" text-anchor=\"middle\" y=\"227.0\">\n",
              "    <tspan class=\"displacy-word\" fill=\"currentColor\" x=\"500\">female</tspan>\n",
              "    <tspan class=\"displacy-tag\" dy=\"2em\" fill=\"currentColor\" x=\"500\">ADJ</tspan>\n",
              "</text>\n",
              "\n",
              "<text class=\"displacy-token\" fill=\"currentColor\" text-anchor=\"middle\" y=\"227.0\">\n",
              "    <tspan class=\"displacy-word\" fill=\"currentColor\" x=\"590\">present</tspan>\n",
              "    <tspan class=\"displacy-tag\" dy=\"2em\" fill=\"currentColor\" x=\"590\">NOUN</tspan>\n",
              "</text>\n",
              "\n",
              "<text class=\"displacy-token\" fill=\"currentColor\" text-anchor=\"middle\" y=\"227.0\">\n",
              "    <tspan class=\"displacy-word\" fill=\"currentColor\" x=\"680\">with</tspan>\n",
              "    <tspan class=\"displacy-tag\" dy=\"2em\" fill=\"currentColor\" x=\"680\">ADP</tspan>\n",
              "</text>\n",
              "\n",
              "<text class=\"displacy-token\" fill=\"currentColor\" text-anchor=\"middle\" y=\"227.0\">\n",
              "    <tspan class=\"displacy-word\" fill=\"currentColor\" x=\"770\">complaint</tspan>\n",
              "    <tspan class=\"displacy-tag\" dy=\"2em\" fill=\"currentColor\" x=\"770\">NOUN</tspan>\n",
              "</text>\n",
              "\n",
              "<text class=\"displacy-token\" fill=\"currentColor\" text-anchor=\"middle\" y=\"227.0\">\n",
              "    <tspan class=\"displacy-word\" fill=\"currentColor\" x=\"860\">of</tspan>\n",
              "    <tspan class=\"displacy-tag\" dy=\"2em\" fill=\"currentColor\" x=\"860\">ADP</tspan>\n",
              "</text>\n",
              "\n",
              "<text class=\"displacy-token\" fill=\"currentColor\" text-anchor=\"middle\" y=\"227.0\">\n",
              "    <tspan class=\"displacy-word\" fill=\"currentColor\" x=\"950\">allergy</tspan>\n",
              "    <tspan class=\"displacy-tag\" dy=\"2em\" fill=\"currentColor\" x=\"950\">NOUN</tspan>\n",
              "</text>\n",
              "\n",
              "<g class=\"displacy-arrow\">\n",
              "    <path class=\"displacy-arc\" id=\"arrow-25289119c2334eae814079a98ab2f7ba-0-0\" stroke-width=\"2px\" d=\"M160,182.0 C160,47.0 585.0,47.0 585.0,182.0\" fill=\"none\" stroke=\"currentColor\"/>\n",
              "    <text dy=\"1.25em\" style=\"font-size: 0.8em; letter-spacing: 1px\">\n",
              "        <textPath xlink:href=\"#arrow-25289119c2334eae814079a98ab2f7ba-0-0\" class=\"displacy-label\" startOffset=\"50%\" side=\"left\" fill=\"currentColor\" text-anchor=\"middle\">det</textPath>\n",
              "    </text>\n",
              "    <path class=\"displacy-arrowhead\" d=\"M160,184.0 L152,172.0 168,172.0\" fill=\"currentColor\"/>\n",
              "</g>\n",
              "\n",
              "<g class=\"displacy-arrow\">\n",
              "    <path class=\"displacy-arc\" id=\"arrow-25289119c2334eae814079a98ab2f7ba-0-1\" stroke-width=\"2px\" d=\"M250,182.0 C250,137.0 305.0,137.0 305.0,182.0\" fill=\"none\" stroke=\"currentColor\"/>\n",
              "    <text dy=\"1.25em\" style=\"font-size: 0.8em; letter-spacing: 1px\">\n",
              "        <textPath xlink:href=\"#arrow-25289119c2334eae814079a98ab2f7ba-0-1\" class=\"displacy-label\" startOffset=\"50%\" side=\"left\" fill=\"currentColor\" text-anchor=\"middle\">punct</textPath>\n",
              "    </text>\n",
              "    <path class=\"displacy-arrowhead\" d=\"M250,184.0 L242,172.0 258,172.0\" fill=\"currentColor\"/>\n",
              "</g>\n",
              "\n",
              "<g class=\"displacy-arrow\">\n",
              "    <path class=\"displacy-arc\" id=\"arrow-25289119c2334eae814079a98ab2f7ba-0-2\" stroke-width=\"2px\" d=\"M340,182.0 C340,92.0 580.0,92.0 580.0,182.0\" fill=\"none\" stroke=\"currentColor\"/>\n",
              "    <text dy=\"1.25em\" style=\"font-size: 0.8em; letter-spacing: 1px\">\n",
              "        <textPath xlink:href=\"#arrow-25289119c2334eae814079a98ab2f7ba-0-2\" class=\"displacy-label\" startOffset=\"50%\" side=\"left\" fill=\"currentColor\" text-anchor=\"middle\">amod</textPath>\n",
              "    </text>\n",
              "    <path class=\"displacy-arrowhead\" d=\"M340,184.0 L332,172.0 348,172.0\" fill=\"currentColor\"/>\n",
              "</g>\n",
              "\n",
              "<g class=\"displacy-arrow\">\n",
              "    <path class=\"displacy-arc\" id=\"arrow-25289119c2334eae814079a98ab2f7ba-0-3\" stroke-width=\"2px\" d=\"M430,182.0 C430,137.0 485.0,137.0 485.0,182.0\" fill=\"none\" stroke=\"currentColor\"/>\n",
              "    <text dy=\"1.25em\" style=\"font-size: 0.8em; letter-spacing: 1px\">\n",
              "        <textPath xlink:href=\"#arrow-25289119c2334eae814079a98ab2f7ba-0-3\" class=\"displacy-label\" startOffset=\"50%\" side=\"left\" fill=\"currentColor\" text-anchor=\"middle\">amod</textPath>\n",
              "    </text>\n",
              "    <path class=\"displacy-arrowhead\" d=\"M430,184.0 L422,172.0 438,172.0\" fill=\"currentColor\"/>\n",
              "</g>\n",
              "\n",
              "<g class=\"displacy-arrow\">\n",
              "    <path class=\"displacy-arc\" id=\"arrow-25289119c2334eae814079a98ab2f7ba-0-4\" stroke-width=\"2px\" d=\"M520,182.0 C520,137.0 575.0,137.0 575.0,182.0\" fill=\"none\" stroke=\"currentColor\"/>\n",
              "    <text dy=\"1.25em\" style=\"font-size: 0.8em; letter-spacing: 1px\">\n",
              "        <textPath xlink:href=\"#arrow-25289119c2334eae814079a98ab2f7ba-0-4\" class=\"displacy-label\" startOffset=\"50%\" side=\"left\" fill=\"currentColor\" text-anchor=\"middle\">amod</textPath>\n",
              "    </text>\n",
              "    <path class=\"displacy-arrowhead\" d=\"M520,184.0 L512,172.0 528,172.0\" fill=\"currentColor\"/>\n",
              "</g>\n",
              "\n",
              "<g class=\"displacy-arrow\">\n",
              "    <path class=\"displacy-arc\" id=\"arrow-25289119c2334eae814079a98ab2f7ba-0-5\" stroke-width=\"2px\" d=\"M70,182.0 C70,2.0 590.0,2.0 590.0,182.0\" fill=\"none\" stroke=\"currentColor\"/>\n",
              "    <text dy=\"1.25em\" style=\"font-size: 0.8em; letter-spacing: 1px\">\n",
              "        <textPath xlink:href=\"#arrow-25289119c2334eae814079a98ab2f7ba-0-5\" class=\"displacy-label\" startOffset=\"50%\" side=\"left\" fill=\"currentColor\" text-anchor=\"middle\">dobj</textPath>\n",
              "    </text>\n",
              "    <path class=\"displacy-arrowhead\" d=\"M590.0,184.0 L598.0,172.0 582.0,172.0\" fill=\"currentColor\"/>\n",
              "</g>\n",
              "\n",
              "<g class=\"displacy-arrow\">\n",
              "    <path class=\"displacy-arc\" id=\"arrow-25289119c2334eae814079a98ab2f7ba-0-6\" stroke-width=\"2px\" d=\"M610,182.0 C610,137.0 665.0,137.0 665.0,182.0\" fill=\"none\" stroke=\"currentColor\"/>\n",
              "    <text dy=\"1.25em\" style=\"font-size: 0.8em; letter-spacing: 1px\">\n",
              "        <textPath xlink:href=\"#arrow-25289119c2334eae814079a98ab2f7ba-0-6\" class=\"displacy-label\" startOffset=\"50%\" side=\"left\" fill=\"currentColor\" text-anchor=\"middle\">prep</textPath>\n",
              "    </text>\n",
              "    <path class=\"displacy-arrowhead\" d=\"M665.0,184.0 L673.0,172.0 657.0,172.0\" fill=\"currentColor\"/>\n",
              "</g>\n",
              "\n",
              "<g class=\"displacy-arrow\">\n",
              "    <path class=\"displacy-arc\" id=\"arrow-25289119c2334eae814079a98ab2f7ba-0-7\" stroke-width=\"2px\" d=\"M700,182.0 C700,137.0 755.0,137.0 755.0,182.0\" fill=\"none\" stroke=\"currentColor\"/>\n",
              "    <text dy=\"1.25em\" style=\"font-size: 0.8em; letter-spacing: 1px\">\n",
              "        <textPath xlink:href=\"#arrow-25289119c2334eae814079a98ab2f7ba-0-7\" class=\"displacy-label\" startOffset=\"50%\" side=\"left\" fill=\"currentColor\" text-anchor=\"middle\">pobj</textPath>\n",
              "    </text>\n",
              "    <path class=\"displacy-arrowhead\" d=\"M755.0,184.0 L763.0,172.0 747.0,172.0\" fill=\"currentColor\"/>\n",
              "</g>\n",
              "\n",
              "<g class=\"displacy-arrow\">\n",
              "    <path class=\"displacy-arc\" id=\"arrow-25289119c2334eae814079a98ab2f7ba-0-8\" stroke-width=\"2px\" d=\"M790,182.0 C790,137.0 845.0,137.0 845.0,182.0\" fill=\"none\" stroke=\"currentColor\"/>\n",
              "    <text dy=\"1.25em\" style=\"font-size: 0.8em; letter-spacing: 1px\">\n",
              "        <textPath xlink:href=\"#arrow-25289119c2334eae814079a98ab2f7ba-0-8\" class=\"displacy-label\" startOffset=\"50%\" side=\"left\" fill=\"currentColor\" text-anchor=\"middle\">prep</textPath>\n",
              "    </text>\n",
              "    <path class=\"displacy-arrowhead\" d=\"M845.0,184.0 L853.0,172.0 837.0,172.0\" fill=\"currentColor\"/>\n",
              "</g>\n",
              "\n",
              "<g class=\"displacy-arrow\">\n",
              "    <path class=\"displacy-arc\" id=\"arrow-25289119c2334eae814079a98ab2f7ba-0-9\" stroke-width=\"2px\" d=\"M880,182.0 C880,137.0 935.0,137.0 935.0,182.0\" fill=\"none\" stroke=\"currentColor\"/>\n",
              "    <text dy=\"1.25em\" style=\"font-size: 0.8em; letter-spacing: 1px\">\n",
              "        <textPath xlink:href=\"#arrow-25289119c2334eae814079a98ab2f7ba-0-9\" class=\"displacy-label\" startOffset=\"50%\" side=\"left\" fill=\"currentColor\" text-anchor=\"middle\">pobj</textPath>\n",
              "    </text>\n",
              "    <path class=\"displacy-arrowhead\" d=\"M935.0,184.0 L943.0,172.0 927.0,172.0\" fill=\"currentColor\"/>\n",
              "</g>\n",
              "</svg></span>"
            ],
            "text/plain": [
              "<IPython.core.display.HTML object>"
            ]
          },
          "metadata": {
            "tags": []
          }
        }
      ]
    },
    {
      "cell_type": "markdown",
      "metadata": {
        "id": "hKOgFkndzef-",
        "colab_type": "text"
      },
      "source": [
        "Word2Vec to perform word embedding"
      ]
    },
    {
      "cell_type": "code",
      "metadata": {
        "id": "34Zq9wY6JnpG",
        "colab_type": "code",
        "colab": {}
      },
      "source": [
        "# using the pretrained google news word vectors \n",
        "w2v = gensim.models.KeyedVectors.load_word2vec_format('https://s3.amazonaws.com/dl4j-distribution/GoogleNews-vectors-negative300.bin.gz', binary=True)"
      ],
      "execution_count": 22,
      "outputs": []
    },
    {
      "cell_type": "markdown",
      "metadata": {
        "id": "A_glR2o1y6Bt",
        "colab_type": "text"
      },
      "source": [
        "calling the preprocessing function and creating word embeddings."
      ]
    },
    {
      "cell_type": "code",
      "metadata": {
        "id": "vmvC0GVFJ7O4",
        "colab_type": "code",
        "colab": {}
      },
      "source": [
        "# defining word2vec function so that the word vector is formed for the data which will be then used for embedding\n",
        "def average_word2vec(tokens_list, vector, generate_missing=False, k=300):\n",
        "    \n",
        "    if len(tokens_list)<1:\n",
        "        return np.zeros(k)\n",
        "    \n",
        "    if generate_missing:\n",
        "        word_vector = [vector[word] if word in vector else np.random.rand(k) for word in tokens_list]\n",
        "    else:\n",
        "        word_vector = [vector[word] if word in vector else np.zeros(k) for word in tokens_list]\n",
        "    \n",
        "    length = len(word_vector)\n",
        "    sum_vec = np.sum(word_vector, axis=0)\n",
        "    average_vec = np.divide(sum_vec, length)\n",
        "    return average_vec\n",
        "    \n",
        "# applying the vector notation to the text\n",
        "def embeddings_word2vec(vectors, clean_tokens, generate_missing=False):\n",
        "    embeddings = clean_tokens['tokens'].apply(lambda x: average_word2vec(x, vectors, \n",
        "                                                                                generate_missing=generate_missing))\n",
        "    return list(embeddings)"
      ],
      "execution_count": 23,
      "outputs": []
    },
    {
      "cell_type": "code",
      "metadata": {
        "id": "uwTCcspQKWTa",
        "colab_type": "code",
        "colab": {}
      },
      "source": [
        "# creating a function that makes use of the preprocessed transcript and makes a word vector for each \n",
        "def word2vec(data):\n",
        "    \n",
        "    new = data.copy(deep = True)    \n",
        "    new = preprocess(new)\n",
        "    \n",
        "    embeddings = embeddings_word2vec(w2v, new)\n",
        "    new_labels_list = new[\"class_label\"].tolist()\n",
        "    \n",
        "    return embeddings, new_labels_list"
      ],
      "execution_count": 24,
      "outputs": []
    },
    {
      "cell_type": "markdown",
      "metadata": {
        "id": "c1phr1nNznJ7",
        "colab_type": "text"
      },
      "source": [
        "# 4. Baseline modeling"
      ]
    },
    {
      "cell_type": "markdown",
      "metadata": {
        "id": "3H4r2785zurR",
        "colab_type": "text"
      },
      "source": [
        "As baseline model we'll choose LogisticRegression as one of the most verstile one. Calculating the score metrics for word2vec."
      ]
    },
    {
      "cell_type": "code",
      "metadata": {
        "id": "-QUbwe0QKjIk",
        "colab_type": "code",
        "colab": {
          "base_uri": "https://localhost:8080/",
          "height": 52
        },
        "outputId": "5b23d73c-9ff2-4c08-979d-3a0e120d9d13"
      },
      "source": [
        "import nltk\n",
        "nltk.download('stopwords')\n",
        "\n",
        "# performing stratisfied k fold to retain the sample percentage\n",
        "skf_folds = StratifiedKFold(n_splits=3, shuffle=True, random_state = 42)\n",
        "\n",
        "# multinomial class allows as there are more than two labels, also to avail cross entropy loss\n",
        "log_reg_clf = LogisticRegressionCV(cv = skf_folds, solver = 'saga', \n",
        "                           multi_class = 'multinomial', n_jobs = -1, random_state = 42)\n",
        "\n",
        "df_res = pd.DataFrame(columns = ['Preprocessing', 'Precision', 'Recall', 'F1-score', 'Accuracy'])\n",
        "\n"
      ],
      "execution_count": 25,
      "outputs": [
        {
          "output_type": "stream",
          "text": [
            "[nltk_data] Downloading package stopwords to /root/nltk_data...\n",
            "[nltk_data]   Package stopwords is already up-to-date!\n"
          ],
          "name": "stdout"
        }
      ]
    },
    {
      "cell_type": "code",
      "metadata": {
        "id": "l1wNb5JNKrxB",
        "colab_type": "code",
        "colab": {}
      },
      "source": [
        "# Word2vec and logistic regression classifier with a test train split of 30:70\n",
        "X, y = word2vec(MTdata)\n",
        "X_train_lr, X_test_lr, y_train_lr, y_test_lr = train_test_split(X, y, test_size=0.3, random_state=42)\n",
        "log_reg_clf.fit(X_train_lr, y_train_lr)\n",
        "y_pred = log_reg_clf.predict(X_test_lr)\n",
        "accuracy, precision, recall, f1 = metrics(y_test_lr, y_pred)\n",
        "df_res = df_res.append({'Preprocessing': 'Word2vec',\n",
        "                       'Precision': precision,\n",
        "                       'Recall': recall,\n",
        "                       'F1-score': f1,\n",
        "                       'Accuracy': accuracy}, ignore_index = True)"
      ],
      "execution_count": 26,
      "outputs": []
    },
    {
      "cell_type": "code",
      "metadata": {
        "id": "GZ6BWLXOLdtm",
        "colab_type": "code",
        "colab": {
          "base_uri": "https://localhost:8080/",
          "height": 79
        },
        "outputId": "25d47420-9438-45a0-b8b3-315c18a42c5c"
      },
      "source": [
        "df_res"
      ],
      "execution_count": 27,
      "outputs": [
        {
          "output_type": "execute_result",
          "data": {
            "text/html": [
              "<div>\n",
              "<style scoped>\n",
              "    .dataframe tbody tr th:only-of-type {\n",
              "        vertical-align: middle;\n",
              "    }\n",
              "\n",
              "    .dataframe tbody tr th {\n",
              "        vertical-align: top;\n",
              "    }\n",
              "\n",
              "    .dataframe thead th {\n",
              "        text-align: right;\n",
              "    }\n",
              "</style>\n",
              "<table border=\"1\" class=\"dataframe\">\n",
              "  <thead>\n",
              "    <tr style=\"text-align: right;\">\n",
              "      <th></th>\n",
              "      <th>Preprocessing</th>\n",
              "      <th>Precision</th>\n",
              "      <th>Recall</th>\n",
              "      <th>F1-score</th>\n",
              "      <th>Accuracy</th>\n",
              "    </tr>\n",
              "  </thead>\n",
              "  <tbody>\n",
              "    <tr>\n",
              "      <th>0</th>\n",
              "      <td>Word2vec</td>\n",
              "      <td>0.34784</td>\n",
              "      <td>0.38255</td>\n",
              "      <td>0.314425</td>\n",
              "      <td>0.38255</td>\n",
              "    </tr>\n",
              "  </tbody>\n",
              "</table>\n",
              "</div>"
            ],
            "text/plain": [
              "  Preprocessing  Precision   Recall  F1-score  Accuracy\n",
              "0      Word2vec    0.34784  0.38255  0.314425   0.38255"
            ]
          },
          "metadata": {
            "tags": []
          },
          "execution_count": 27
        }
      ]
    },
    {
      "cell_type": "markdown",
      "metadata": {
        "id": "dafGnqcc0Dp7",
        "colab_type": "text"
      },
      "source": [
        "# 5. Dataset Refining"
      ]
    },
    {
      "cell_type": "markdown",
      "metadata": {
        "id": "xDDMKT-60BwR",
        "colab_type": "text"
      },
      "source": [
        "Dropping objects with number of observations less than 100."
      ]
    },
    {
      "cell_type": "code",
      "metadata": {
        "id": "xj0xmba2Lg3b",
        "colab_type": "code",
        "colab": {}
      },
      "source": [
        "counts = MTdata['medical_specialty'].value_counts()\n",
        "\n",
        "# keeping objects with over 100 observations for better accuracy\n",
        "MTdata_100 = MTdata[MTdata['medical_specialty'].isin(counts[counts > 100].index)]"
      ],
      "execution_count": 28,
      "outputs": []
    },
    {
      "cell_type": "code",
      "metadata": {
        "id": "dC40TlF5LmLQ",
        "colab_type": "code",
        "colab": {}
      },
      "source": [
        "MTdata_100['labels'] = LabelEncoder().fit_transform(MTdata_100['medical_specialty'])"
      ],
      "execution_count": 29,
      "outputs": []
    },
    {
      "cell_type": "code",
      "metadata": {
        "id": "25SoeLLeLrfe",
        "colab_type": "code",
        "colab": {
          "base_uri": "https://localhost:8080/",
          "height": 243
        },
        "outputId": "0a0b9c22-689b-4d89-ab73-cfbcd599f3ca"
      },
      "source": [
        "MTdata_100['medical_specialty'].value_counts()"
      ],
      "execution_count": 30,
      "outputs": [
        {
          "output_type": "execute_result",
          "data": {
            "text/plain": [
              " Surgery                          1088\n",
              " Consult - History and Phy.        516\n",
              " Cardiovascular / Pulmonary        371\n",
              " Orthopedic                        355\n",
              " Radiology                         273\n",
              " General Medicine                  259\n",
              " Gastroenterology                  224\n",
              " Neurology                         223\n",
              " SOAP / Chart / Progress Notes     166\n",
              " Urology                           156\n",
              " Obstetrics / Gynecology           155\n",
              " Discharge Summary                 108\n",
              "Name: medical_specialty, dtype: int64"
            ]
          },
          "metadata": {
            "tags": []
          },
          "execution_count": 30
        }
      ]
    },
    {
      "cell_type": "markdown",
      "metadata": {
        "id": "0Z2fxkmf0PKj",
        "colab_type": "text"
      },
      "source": [
        "# 6. Logistic Regression Model"
      ]
    },
    {
      "cell_type": "code",
      "metadata": {
        "id": "dgjquHvLOpx4",
        "colab_type": "code",
        "colab": {}
      },
      "source": [
        "# defining the logistic regression classifier model that will be used \n",
        "def log_reg(X_train_logreg, X_test_logreg, y_train_logreg, y_test_logreg, preproc):\n",
        "    \n",
        "    skf_folds = StratifiedKFold(n_splits = 3, shuffle = True, random_state = 40)\n",
        "    \n",
        "    log_reg_clf = LogisticRegressionCV(cv = skf_folds, solver = 'saga', multi_class = 'multinomial', n_jobs = -1)\n",
        "    \n",
        "    log_reg_clf.fit(X_train_logreg, y_train_logreg)\n",
        "\n",
        "    res = pd.DataFrame(columns = ['Preprocessing', 'Model', 'Precision', 'Recall', 'F1-score', 'Accuracy'])\n",
        "    \n",
        "    y_pred = log_reg_clf.predict(X_test_logreg)\n",
        "    \n",
        "    # retrieving the metrics for the model\n",
        "    f1 = f1_score(y_pred, y_test_logreg, average = 'weighted')\n",
        "    pres = precision_score(y_pred, y_test_logreg, average = 'weighted')\n",
        "    rec = recall_score(y_pred, y_test_logreg, average = 'weighted')\n",
        "    acc = accuracy_score(y_pred, y_test_logreg)\n",
        "    \n",
        "    res = res.append({'Preprocessing': preproc, 'Model': f'Logistic Regression', 'Precision': pres, \n",
        "                     'Recall': rec, 'F1-score': f1, 'Accuracy': acc}, ignore_index = True)\n",
        "\n",
        "    return res"
      ],
      "execution_count": 31,
      "outputs": []
    },
    {
      "cell_type": "code",
      "metadata": {
        "id": "-x170wK0O-9H",
        "colab_type": "code",
        "colab": {}
      },
      "source": [
        "full_result = pd.DataFrame(columns = ['Preprocessing', 'Model', 'Precision', 'Recall', 'F1-score', 'Accuracy'])\n"
      ],
      "execution_count": 32,
      "outputs": []
    },
    {
      "cell_type": "code",
      "metadata": {
        "id": "VtVap8ayPBc9",
        "colab_type": "code",
        "colab": {
          "base_uri": "https://localhost:8080/",
          "height": 79
        },
        "outputId": "0c6de442-2e60-44ff-aace-55b997f7052e"
      },
      "source": [
        "# Testing the model\n",
        "\n",
        "X, y = word2vec(MTdata_100)\n",
        "X_train_lr, X_test_lr, y_train_lr, y_test_lr = train_test_split(X, y, test_size=0.3, random_state=42)\n",
        "full_result = full_result.append(log_reg(X_train_lr, X_test_lr, y_train_lr, y_test_lr, 'Word2vec'), ignore_index = True)\n",
        "\n",
        "full_result"
      ],
      "execution_count": 33,
      "outputs": [
        {
          "output_type": "execute_result",
          "data": {
            "text/html": [
              "<div>\n",
              "<style scoped>\n",
              "    .dataframe tbody tr th:only-of-type {\n",
              "        vertical-align: middle;\n",
              "    }\n",
              "\n",
              "    .dataframe tbody tr th {\n",
              "        vertical-align: top;\n",
              "    }\n",
              "\n",
              "    .dataframe thead th {\n",
              "        text-align: right;\n",
              "    }\n",
              "</style>\n",
              "<table border=\"1\" class=\"dataframe\">\n",
              "  <thead>\n",
              "    <tr style=\"text-align: right;\">\n",
              "      <th></th>\n",
              "      <th>Preprocessing</th>\n",
              "      <th>Model</th>\n",
              "      <th>Precision</th>\n",
              "      <th>Recall</th>\n",
              "      <th>F1-score</th>\n",
              "      <th>Accuracy</th>\n",
              "    </tr>\n",
              "  </thead>\n",
              "  <tbody>\n",
              "    <tr>\n",
              "      <th>0</th>\n",
              "      <td>Word2vec</td>\n",
              "      <td>Logistic Regression</td>\n",
              "      <td>0.617946</td>\n",
              "      <td>0.483319</td>\n",
              "      <td>0.525961</td>\n",
              "      <td>0.483319</td>\n",
              "    </tr>\n",
              "  </tbody>\n",
              "</table>\n",
              "</div>"
            ],
            "text/plain": [
              "  Preprocessing                Model  Precision    Recall  F1-score  Accuracy\n",
              "0      Word2vec  Logistic Regression   0.617946  0.483319  0.525961  0.483319"
            ]
          },
          "metadata": {
            "tags": []
          },
          "execution_count": 33
        }
      ]
    },
    {
      "cell_type": "markdown",
      "metadata": {
        "id": "uCnGnurA0pCT",
        "colab_type": "text"
      },
      "source": [
        "high precision score. Recall is relatively low. "
      ]
    },
    {
      "cell_type": "code",
      "metadata": {
        "id": "kWT-AH_qRUkY",
        "colab_type": "code",
        "colab": {}
      },
      "source": [
        "# model for the confusion matrix\n",
        "\n",
        "X, y = word2vec(MTdata_100)\n",
        "X_train_logreg, X_test_logreg, y_train_logreg, y_test_logreg = train_test_split(X, y, test_size=0.3, random_state=42)\n",
        "skf_folds = StratifiedKFold(n_splits = 3, shuffle = True, random_state = 42)\n",
        "clf_word2vec = LogisticRegressionCV(cv = skf_folds, solver = 'saga', multi_class = 'multinomial', n_jobs = -1)\n",
        "clf_word2vec.fit(X_train_logreg, y_train_logreg)\n",
        "y_pred = clf_word2vec.predict(X_test_logreg)"
      ],
      "execution_count": 34,
      "outputs": []
    },
    {
      "cell_type": "code",
      "metadata": {
        "id": "mReSj1MgR6lu",
        "colab_type": "code",
        "colab": {
          "base_uri": "https://localhost:8080/",
          "height": 485
        },
        "outputId": "6e981b8a-fae6-4c64-f950-418ecaec703e"
      },
      "source": [
        "# installing lime to have a explaination of the predictions made\n",
        "!pip install lime\n",
        "from lime import lime_text\n",
        "from lime.lime_text import LimeTextExplainer\n"
      ],
      "execution_count": 35,
      "outputs": [
        {
          "output_type": "stream",
          "text": [
            "Collecting lime\n",
            "\u001b[?25l  Downloading https://files.pythonhosted.org/packages/f5/86/91a13127d83d793ecb50eb75e716f76e6eda809b6803c5a4ff462339789e/lime-0.2.0.1.tar.gz (275kB)\n",
            "\r\u001b[K     |█▏                              | 10kB 15.9MB/s eta 0:00:01\r\u001b[K     |██▍                             | 20kB 3.0MB/s eta 0:00:01\r\u001b[K     |███▋                            | 30kB 4.1MB/s eta 0:00:01\r\u001b[K     |████▊                           | 40kB 4.4MB/s eta 0:00:01\r\u001b[K     |██████                          | 51kB 3.4MB/s eta 0:00:01\r\u001b[K     |███████▏                        | 61kB 3.9MB/s eta 0:00:01\r\u001b[K     |████████▎                       | 71kB 4.2MB/s eta 0:00:01\r\u001b[K     |█████████▌                      | 81kB 4.4MB/s eta 0:00:01\r\u001b[K     |██████████▊                     | 92kB 4.8MB/s eta 0:00:01\r\u001b[K     |███████████▉                    | 102kB 4.7MB/s eta 0:00:01\r\u001b[K     |█████████████                   | 112kB 4.7MB/s eta 0:00:01\r\u001b[K     |██████████████▎                 | 122kB 4.7MB/s eta 0:00:01\r\u001b[K     |███████████████▌                | 133kB 4.7MB/s eta 0:00:01\r\u001b[K     |████████████████▋               | 143kB 4.7MB/s eta 0:00:01\r\u001b[K     |█████████████████▉              | 153kB 4.7MB/s eta 0:00:01\r\u001b[K     |███████████████████             | 163kB 4.7MB/s eta 0:00:01\r\u001b[K     |████████████████████▏           | 174kB 4.7MB/s eta 0:00:01\r\u001b[K     |█████████████████████▍          | 184kB 4.7MB/s eta 0:00:01\r\u001b[K     |██████████████████████▋         | 194kB 4.7MB/s eta 0:00:01\r\u001b[K     |███████████████████████▊        | 204kB 4.7MB/s eta 0:00:01\r\u001b[K     |█████████████████████████       | 215kB 4.7MB/s eta 0:00:01\r\u001b[K     |██████████████████████████▏     | 225kB 4.7MB/s eta 0:00:01\r\u001b[K     |███████████████████████████▍    | 235kB 4.7MB/s eta 0:00:01\r\u001b[K     |████████████████████████████▌   | 245kB 4.7MB/s eta 0:00:01\r\u001b[K     |█████████████████████████████▊  | 256kB 4.7MB/s eta 0:00:01\r\u001b[K     |███████████████████████████████ | 266kB 4.7MB/s eta 0:00:01\r\u001b[K     |████████████████████████████████| 276kB 4.7MB/s \n",
            "\u001b[?25hRequirement already satisfied: matplotlib in /usr/local/lib/python3.6/dist-packages (from lime) (3.2.2)\n",
            "Requirement already satisfied: numpy in /usr/local/lib/python3.6/dist-packages (from lime) (1.18.5)\n",
            "Requirement already satisfied: scipy in /usr/local/lib/python3.6/dist-packages (from lime) (1.4.1)\n",
            "Requirement already satisfied: tqdm in /usr/local/lib/python3.6/dist-packages (from lime) (4.41.1)\n",
            "Requirement already satisfied: scikit-learn>=0.18 in /usr/local/lib/python3.6/dist-packages (from lime) (0.22.2.post1)\n",
            "Requirement already satisfied: scikit-image>=0.12 in /usr/local/lib/python3.6/dist-packages (from lime) (0.16.2)\n",
            "Requirement already satisfied: python-dateutil>=2.1 in /usr/local/lib/python3.6/dist-packages (from matplotlib->lime) (2.8.1)\n",
            "Requirement already satisfied: kiwisolver>=1.0.1 in /usr/local/lib/python3.6/dist-packages (from matplotlib->lime) (1.2.0)\n",
            "Requirement already satisfied: cycler>=0.10 in /usr/local/lib/python3.6/dist-packages (from matplotlib->lime) (0.10.0)\n",
            "Requirement already satisfied: pyparsing!=2.0.4,!=2.1.2,!=2.1.6,>=2.0.1 in /usr/local/lib/python3.6/dist-packages (from matplotlib->lime) (2.4.7)\n",
            "Requirement already satisfied: joblib>=0.11 in /usr/local/lib/python3.6/dist-packages (from scikit-learn>=0.18->lime) (0.16.0)\n",
            "Requirement already satisfied: pillow>=4.3.0 in /usr/local/lib/python3.6/dist-packages (from scikit-image>=0.12->lime) (7.0.0)\n",
            "Requirement already satisfied: PyWavelets>=0.4.0 in /usr/local/lib/python3.6/dist-packages (from scikit-image>=0.12->lime) (1.1.1)\n",
            "Requirement already satisfied: imageio>=2.3.0 in /usr/local/lib/python3.6/dist-packages (from scikit-image>=0.12->lime) (2.4.1)\n",
            "Requirement already satisfied: networkx>=2.0 in /usr/local/lib/python3.6/dist-packages (from scikit-image>=0.12->lime) (2.4)\n",
            "Requirement already satisfied: six>=1.5 in /usr/local/lib/python3.6/dist-packages (from python-dateutil>=2.1->matplotlib->lime) (1.15.0)\n",
            "Requirement already satisfied: decorator>=4.3.0 in /usr/local/lib/python3.6/dist-packages (from networkx>=2.0->scikit-image>=0.12->lime) (4.4.2)\n",
            "Building wheels for collected packages: lime\n",
            "  Building wheel for lime (setup.py) ... \u001b[?25l\u001b[?25hdone\n",
            "  Created wheel for lime: filename=lime-0.2.0.1-cp36-none-any.whl size=283845 sha256=d42c77ba7df5ea2b51e8ad2da93074f9eb6f3a18002ff63e350220ec6935d324\n",
            "  Stored in directory: /root/.cache/pip/wheels/4c/4f/a5/0bc765457bd41378bf3ce8d17d7495369d6e7ca3b712c60c89\n",
            "Successfully built lime\n",
            "Installing collected packages: lime\n",
            "Successfully installed lime-0.2.0.1\n"
          ],
          "name": "stdout"
        }
      ]
    },
    {
      "cell_type": "code",
      "metadata": {
        "id": "77lYifeTSFyE",
        "colab_type": "code",
        "colab": {}
      },
      "source": [
        "# defining the confusion matrix function\n",
        "def plot_confusion_matrix_logreg(cm, classes,\n",
        "                          normalize=False,\n",
        "                          title='Confusion matrix',\n",
        "                          cmap=plt.cm.winter):\n",
        "    if normalize:\n",
        "        cm = cm.astype('float') / cm.sum(axis=1)[:, np.newaxis]\n",
        "    plt.imshow(cm, interpolation='nearest', cmap=cmap)\n",
        "    plt.title(title, fontsize=20)\n",
        "    plt.colorbar()\n",
        "    tick_marks = np.arange(len(classes))\n",
        "    plt.xticks(tick_marks, classes, fontsize=10, rotation = 90)\n",
        "    plt.yticks(tick_marks, classes, fontsize=10)\n",
        "    \n",
        "    fmt = '.2f' if normalize else 'd'\n",
        "    thresh = cm.max() / 2.\n",
        "\n",
        "    for i, j in itertools.product(range(cm.shape[0]), range(cm.shape[1])):\n",
        "        plt.text(j, i, format(cm[i, j], fmt), horizontalalignment=\"center\", \n",
        "                 color=\"white\" if cm[i, j] < thresh else \"black\", fontsize=12)\n",
        "    \n",
        "    plt.tight_layout()\n",
        "    plt.ylabel('True label', fontsize=20)\n",
        "    plt.xlabel('Predicted label', fontsize=20)\n",
        "\n",
        "    return plt"
      ],
      "execution_count": 36,
      "outputs": []
    },
    {
      "cell_type": "code",
      "metadata": {
        "id": "zLzxfjfwSKEc",
        "colab_type": "code",
        "colab": {
          "base_uri": "https://localhost:8080/",
          "height": 1000
        },
        "outputId": "5f1e6ce8-dda5-450c-8958-97fa398296b9"
      },
      "source": [
        "classes = [' Cardiovascular / Pulmonary', ' Consult - History and Phy.', ' Discharge Summary',\n",
        "           ' Gastroenterology', ' General Medicine', ' Neurology', ' Obstetrics / Gynecology',\n",
        "           ' Orthopedic', ' Radiology', ' SOAP / Chart / Progress Notes', ' Surgery', ' Urology']\n",
        "cm = confusion_matrix(y_test_logreg, y_pred)\n",
        "fig = plt.figure(figsize=(16, 16))\n",
        "plot = plot_confusion_matrix_logreg(cm, classes=classes, normalize=False, \n",
        "                             title='Confusion matrix')\n",
        "plt.savefig('confusion1.png')\n",
        "plt.show()\n"
      ],
      "execution_count": 37,
      "outputs": [
        {
          "output_type": "display_data",
          "data": {
            "image/png": "[encoded data removed]",
            "text/plain": [
              "<Figure size 1152x1152 with 2 Axes>"
            ]
          },
          "metadata": {
            "tags": [],
            "needs_background": "light"
          }
        }
      ]
    },
    {
      "cell_type": "markdown",
      "metadata": {
        "id": "L2YH9LVQxQVt",
        "colab_type": "text"
      },
      "source": [
        "We can see that classes imbalance still prevents us from getting a better result."
      ]
    },
    {
      "cell_type": "markdown",
      "metadata": {
        "id": "bS9Bie7U1HT1",
        "colab_type": "text"
      },
      "source": [
        "# 7. CNN Model"
      ]
    },
    {
      "cell_type": "code",
      "metadata": {
        "id": "AlN_rUibaFnE",
        "colab_type": "code",
        "colab": {
          "base_uri": "https://localhost:8080/",
          "height": 89
        },
        "outputId": "e4e8553d-d2ea-4901-e613-275950d31b0c"
      },
      "source": [
        "# Initialising the length, number of words and dimension and reading the same file\n",
        "length = 1000\n",
        "words = 20000\n",
        "dim = 100\n",
        "texts = []\n",
        "labels = []\n",
        "df_ml = pd.read_csv('/content/drive/My Drive/HI_Project/mtsamples.csv')\n",
        "\n",
        "# dropping records with null value \n",
        "df_ml = df_ml.dropna()\n",
        "df_ml = df_ml.reset_index(drop=True)\n",
        "\n",
        "print('Input Shape ',df_ml.shape)\n",
        "print('No. of Classes',len(set(df_ml['medical_specialty'])))\n",
        "print(sorted(set(df_ml['medical_specialty'])))"
      ],
      "execution_count": 38,
      "outputs": [
        {
          "output_type": "stream",
          "text": [
            "Input Shape  (3898, 6)\n",
            "No. of Classes 39\n",
            "[' Allergy / Immunology', ' Bariatrics', ' Cardiovascular / Pulmonary', ' Chiropractic', ' Consult - History and Phy.', ' Cosmetic / Plastic Surgery', ' Dentistry', ' Dermatology', ' Diets and Nutritions', ' Discharge Summary', ' ENT - Otolaryngology', ' Emergency Room Reports', ' Endocrinology', ' Gastroenterology', ' General Medicine', ' Hematology - Oncology', ' Hospice - Palliative Care', ' IME-QME-Work Comp etc.', ' Lab Medicine - Pathology', ' Letters', ' Nephrology', ' Neurology', ' Neurosurgery', ' Obstetrics / Gynecology', ' Office Notes', ' Ophthalmology', ' Orthopedic', ' Pain Management', ' Pediatrics - Neonatal', ' Physical Medicine - Rehab', ' Podiatry', ' Psychiatry / Psychology', ' Radiology', ' Rheumatology', ' SOAP / Chart / Progress Notes', ' Sleep Medicine', ' Speech - Language', ' Surgery', ' Urology']\n"
          ],
          "name": "stdout"
        }
      ]
    },
    {
      "cell_type": "code",
      "metadata": {
        "id": "1oNuExsya0SP",
        "colab_type": "code",
        "colab": {
          "base_uri": "https://localhost:8080/",
          "height": 35
        },
        "outputId": "725ee737-b1c7-424b-aa0c-2258fa55e11b"
      },
      "source": [
        "# creating individual ids for each medical speciality for the model\n",
        "macronum=sorted(set(df_ml['medical_specialty']))\n",
        "nid = dict((note, number) for number, note in enumerate(macronum))\n",
        "def fnid(i):\n",
        "    return nid[i]\n",
        "\n",
        "df_ml['medical_specialty']=df_ml['medical_specialty'].apply(fnid)\n",
        "print(sorted(set(df_ml['medical_specialty'])))\n",
        "# print(df['medical_specialty'].shape)"
      ],
      "execution_count": 39,
      "outputs": [
        {
          "output_type": "stream",
          "text": [
            "[0, 1, 2, 3, 4, 5, 6, 7, 8, 9, 10, 11, 12, 13, 14, 15, 16, 17, 18, 19, 20, 21, 22, 23, 24, 25, 26, 27, 28, 29, 30, 31, 32, 33, 34, 35, 36, 37, 38]\n"
          ],
          "name": "stdout"
        }
      ]
    },
    {
      "cell_type": "code",
      "metadata": {
        "id": "EnTPFjvua_yZ",
        "colab_type": "code",
        "colab": {}
      },
      "source": [
        "# performing necessary preprocessing steps to the dataset\n",
        "\n",
        "def preprocess_cnn(string):\n",
        "    \n",
        "    string = re.sub(r\"\\\\\", \"\", string)\n",
        "    string = re.sub(r\"\\\"\", \"\", string)\n",
        "    string = re.sub(r\"\\'\", \"\", string)\n",
        "    \n",
        "    return string.strip().lower()\n",
        "\n",
        "for index in range(df_ml.keywords.shape[0]):\n",
        "    text = BeautifulSoup(df_ml.keywords[index])\n",
        "    texts.append(preprocess_cnn(str(text.get_text().encode())))\n",
        "\n",
        "for index in df_ml['medical_specialty']:\n",
        "    labels.append(index)"
      ],
      "execution_count": 40,
      "outputs": []
    },
    {
      "cell_type": "code",
      "metadata": {
        "id": "01qGigY2cDKW",
        "colab_type": "code",
        "colab": {
          "base_uri": "https://localhost:8080/",
          "height": 35
        },
        "outputId": "842363b2-a610-4703-d8bf-86a9d210f9ec"
      },
      "source": [
        "# tokenizing the keywords\n",
        "token = Tokenizer(num_words=length)\n",
        "token.fit_on_texts(texts)\n",
        "seq = token.texts_to_sequences(texts)\n",
        "word_index = token.word_index\n",
        "print('No. tokens: ',len(word_index))"
      ],
      "execution_count": 41,
      "outputs": [
        {
          "output_type": "stream",
          "text": [
            "No. tokens:  5928\n"
          ],
          "name": "stdout"
        }
      ]
    },
    {
      "cell_type": "code",
      "metadata": {
        "id": "mkQvmJ9qcLHG",
        "colab_type": "code",
        "colab": {
          "base_uri": "https://localhost:8080/",
          "height": 35
        },
        "outputId": "5daee5ab-fd1b-45bf-eba9-3bb0b361507f"
      },
      "source": [
        "# padding the sequences and converting the labels to categorical values\n",
        "\n",
        "data = pad_sequences(seq, maxlen=length)\n",
        "print(\"Input: \", data.shape)\n",
        "labels = to_categorical(np.asarray(labels))\n",
        "indexes = np.arange(data.shape[0])\n",
        "np.random.shuffle(indexes)\n",
        "data = data[indexes]\n",
        "labels = labels[indexes]\n",
        "\n",
        "# splitting the dataset to train, val and test\n",
        "xtrain, xtest, ytrain, ytest = train_test_split(data, labels, test_size=0.3, random_state=42)\n",
        "xtrain2, xval, ytrain2, yval = train_test_split(xtrain, ytrain, test_size=0.3, random_state=42)\n"
      ],
      "execution_count": 42,
      "outputs": [
        {
          "output_type": "stream",
          "text": [
            "Input:  (3898, 1000)\n"
          ],
          "name": "stdout"
        }
      ]
    },
    {
      "cell_type": "code",
      "metadata": {
        "id": "_vxRtVTfc3ST",
        "colab_type": "code",
        "colab": {
          "base_uri": "https://localhost:8080/",
          "height": 35
        },
        "outputId": "d02891ac-0f2e-46b7-d77b-3d799b225c76"
      },
      "source": [
        "# creating a word embedding using the glove file\n",
        "embeddings_index = {}\n",
        "f = open(\"/content/drive/My Drive/HI_Project/glove.6B.100d.txt\",encoding='utf8')\n",
        "for line in f:\n",
        "    values = line.split()\n",
        "    word = values[0]\n",
        "    coefs = np.asarray(values[1:], dtype='float32')\n",
        "    embeddings_index[word] = coefs\n",
        "f.close()\n",
        "print('Total %s word vectors in Glove 6B 100d.' % len(embeddings_index))"
      ],
      "execution_count": 43,
      "outputs": [
        {
          "output_type": "stream",
          "text": [
            "Total 400000 word vectors in Glove 6B 100d.\n"
          ],
          "name": "stdout"
        }
      ]
    },
    {
      "cell_type": "code",
      "metadata": {
        "id": "iwwj48joc9JZ",
        "colab_type": "code",
        "colab": {}
      },
      "source": [
        "# creating the embedding matrix \n",
        "embedding_matrix = np.random.random((len(word_index) + 1, dim))\n",
        "for word, i in word_index.items():\n",
        "    embedding_vector = embeddings_index.get(word)\n",
        "    if embedding_vector is not None:\n",
        "        # words not found in embedding index will be all-zeros.\n",
        "        embedding_matrix[i] = embedding_vector\n",
        "\n",
        "embedding_layer = Embedding(len(word_index) + 1,\n",
        "                            dim,weights=[embedding_matrix],\n",
        "                            input_length=length,trainable=True)"
      ],
      "execution_count": 44,
      "outputs": []
    },
    {
      "cell_type": "code",
      "metadata": {
        "id": "k0O0Lee4dz4F",
        "colab_type": "code",
        "colab": {}
      },
      "source": [
        "# creating the custom f1 score metrics\n",
        "def recall_m(orignal, predicted):\n",
        "    true_positives = K.sum(K.round(K.clip(orignal * predicted, 0, 1)))\n",
        "    possible_positives = K.sum(K.round(K.clip(orignal, 0, 1)))\n",
        "    recall_op = true_positives / (possible_positives + K.epsilon())\n",
        "    return recall_op\n",
        "\n",
        "def precision_m(y_true, y_pred):\n",
        "    true_positives = K.sum(K.round(K.clip(y_true * y_pred, 0, 1)))\n",
        "    predicted_positives = K.sum(K.round(K.clip(y_pred, 0, 1)))\n",
        "    precision_op = true_positives / (predicted_positives + K.epsilon())\n",
        "    return precision_op\n",
        "\n",
        "def f1_m(y_true, y_pred):\n",
        "    precision_op = precision_m(y_true, y_pred)\n",
        "    recall_op = recall_m(y_true, y_pred)\n",
        "    return 2*((precision_op*recall_op)/(precision_op+recall_op+K.epsilon()))"
      ],
      "execution_count": 45,
      "outputs": []
    },
    {
      "cell_type": "code",
      "metadata": {
        "id": "A2HXwwsLdKWa",
        "colab_type": "code",
        "colab": {
          "base_uri": "https://localhost:8080/",
          "height": 659
        },
        "outputId": "774f767b-addd-4765-be5b-92cf240bad48"
      },
      "source": [
        "# creating a sequential model with input for shape provided\n",
        "sequence_input = Input(shape=(length,), dtype='int32')\n",
        "\n",
        "# inputting the embedding layer as the first input layer\n",
        "input = embedding_layer(sequence_input)\n",
        "CNN = Conv1D(32, 5, activation='relu')(input)\n",
        "# CNN = Conv1D(32, 5, activation='relu')(CNN)\n",
        "#CNN = BatchNormalization()(CNN)\n",
        "CNN = MaxPooling1D(5)(CNN)\n",
        "#CNN = Dropout(0.2)(CNN)\n",
        "\n",
        "CNN = Conv1D(64, 5, activation='relu')(CNN)\n",
        "# CNN = Conv1D(128, 5, activation='relu')(CNN)\n",
        "#CNN = BatchNormalization()(CNN)\n",
        "CNN = MaxPooling1D(5)(CNN)\n",
        "#CNN = Dropout(0.2)(CNN)\n",
        "\n",
        "CNN = Conv1D(96, 5, activation='relu')(CNN)\n",
        "# CNN = Conv1D(256, 5, activation='relu')(CNN)\n",
        "# CNN = Conv1D(256, 5, activation='relu')(CNN)\n",
        "#CNN = BatchNormalization()(CNN)\n",
        "CNN = MaxPooling1D(5)(CNN)\n",
        "CNN = Dropout(0.2)(CNN)\n",
        "\n",
        "CNN = Flatten()(CNN)\n",
        "\n",
        "CNN = Dropout(0.2)(CNN)\n",
        "CNN = Dense(128, activation='relu')(CNN)\n",
        "\n",
        "CNN = Dropout(0.2)(CNN)\n",
        "# CNN = Dense(128, activation='relu')(CNN)\n",
        "\n",
        "# l_dense1 = Dense(128, activation='relu')(l_dense)\n",
        "preds = Dense(len(macronum), activation='softmax')(CNN)\n",
        "\n",
        "model = Model(sequence_input, preds)\n",
        "\n",
        "# model is created to have categorical cross entropy as the labels are encoded and metrics are F1 score which have been initialised earlier\n",
        "model.compile(loss='categorical_crossentropy',\n",
        "              optimizer='rmsprop',\n",
        "              metrics=['acc',f1_m,precision_m, recall_m])\n",
        "\n",
        "model.save('CNN.hdf5')\n",
        "print(\"CNN\")\n",
        "model.summary()\n",
        "\n",
        "# plot_model is used to visualise the cnn model \n",
        "plot_model(model, to_file='model_plot.png', show_shapes=True, show_layer_names=True)\n",
        "\n",
        "# checkpoints are created so that weights are saved and can be loaded to test the model with test data\n",
        "cp=ModelCheckpoint('model_cnn.hdf5',monitor='val_acc',verbose=1,save_best_only=True)\n"
      ],
      "execution_count": 46,
      "outputs": [
        {
          "output_type": "stream",
          "text": [
            "CNN\n",
            "Model: \"functional_1\"\n",
            "_________________________________________________________________\n",
            "Layer (type)                 Output Shape              Param #   \n",
            "=================================================================\n",
            "input_1 (InputLayer)         [(None, 1000)]            0         \n",
            "_________________________________________________________________\n",
            "embedding (Embedding)        (None, 1000, 100)         592900    \n",
            "_________________________________________________________________\n",
            "conv1d (Conv1D)              (None, 996, 32)           16032     \n",
            "_________________________________________________________________\n",
            "max_pooling1d (MaxPooling1D) (None, 199, 32)           0         \n",
            "_________________________________________________________________\n",
            "conv1d_1 (Conv1D)            (None, 195, 64)           10304     \n",
            "_________________________________________________________________\n",
            "max_pooling1d_1 (MaxPooling1 (None, 39, 64)            0         \n",
            "_________________________________________________________________\n",
            "conv1d_2 (Conv1D)            (None, 35, 96)            30816     \n",
            "_________________________________________________________________\n",
            "max_pooling1d_2 (MaxPooling1 (None, 7, 96)             0         \n",
            "_________________________________________________________________\n",
            "dropout (Dropout)            (None, 7, 96)             0         \n",
            "_________________________________________________________________\n",
            "flatten (Flatten)            (None, 672)               0         \n",
            "_________________________________________________________________\n",
            "dropout_1 (Dropout)          (None, 672)               0         \n",
            "_________________________________________________________________\n",
            "dense (Dense)                (None, 128)               86144     \n",
            "_________________________________________________________________\n",
            "dropout_2 (Dropout)          (None, 128)               0         \n",
            "_________________________________________________________________\n",
            "dense_1 (Dense)              (None, 39)                5031      \n",
            "=================================================================\n",
            "Total params: 741,227\n",
            "Trainable params: 741,227\n",
            "Non-trainable params: 0\n",
            "_________________________________________________________________\n"
          ],
          "name": "stdout"
        }
      ]
    },
    {
      "cell_type": "code",
      "metadata": {
        "id": "Zzb794ImdeMs",
        "colab_type": "code",
        "colab": {
          "base_uri": "https://localhost:8080/",
          "height": 523
        },
        "outputId": "f950b733-3d92-40fe-d91e-9a5d13d07709"
      },
      "source": [
        "# model is run with 7 epochs\n",
        "history=model.fit(xtrain, ytrain, validation_data=(xval, yval), epochs=7, batch_size=2, callbacks=[cp])"
      ],
      "execution_count": 47,
      "outputs": [
        {
          "output_type": "stream",
          "text": [
            "Epoch 1/7\n",
            "1364/1364 [==============================] - ETA: 0s - loss: 2.2593 - acc: 0.3776 - f1_m: 0.3087 - precision_m: 0.4157 - recall_m: 0.2551\n",
            "Epoch 00001: val_acc improved from -inf to 0.62149, saving model to model_cnn.hdf5\n",
            "1364/1364 [==============================] - 27s 20ms/step - loss: 2.2593 - acc: 0.3776 - f1_m: 0.3087 - precision_m: 0.4157 - recall_m: 0.2551 - val_loss: 1.4448 - val_acc: 0.6215 - val_f1_m: 0.6163 - val_precision_m: 0.7805 - val_recall_m: 0.5341\n",
            "Epoch 2/7\n",
            "1363/1364 [============================>.] - ETA: 0s - loss: 1.2413 - acc: 0.6511 - f1_m: 0.6689 - precision_m: 0.8144 - recall_m: 0.5961\n",
            "Epoch 00002: val_acc improved from 0.62149 to 0.75702, saving model to model_cnn.hdf5\n",
            "1364/1364 [==============================] - 27s 20ms/step - loss: 1.2404 - acc: 0.6514 - f1_m: 0.6691 - precision_m: 0.8145 - recall_m: 0.5964 - val_loss: 0.8684 - val_acc: 0.7570 - val_f1_m: 0.7866 - val_precision_m: 0.9256 - val_recall_m: 0.7171\n",
            "Epoch 3/7\n",
            "1363/1364 [============================>.] - ETA: 0s - loss: 0.9135 - acc: 0.7461 - f1_m: 0.7743 - precision_m: 0.8944 - recall_m: 0.7142\n",
            "Epoch 00003: val_acc improved from 0.75702 to 0.82906, saving model to model_cnn.hdf5\n",
            "1364/1364 [==============================] - 28s 20ms/step - loss: 0.9143 - acc: 0.7460 - f1_m: 0.7742 - precision_m: 0.8944 - recall_m: 0.7141 - val_loss: 0.6273 - val_acc: 0.8291 - val_f1_m: 0.8350 - val_precision_m: 0.9537 - val_recall_m: 0.7756\n",
            "Epoch 4/7\n",
            "1363/1364 [============================>.] - ETA: 0s - loss: 0.7397 - acc: 0.8045 - f1_m: 0.8238 - precision_m: 0.9241 - recall_m: 0.7737\n",
            "Epoch 00004: val_acc improved from 0.82906 to 0.85714, saving model to model_cnn.hdf5\n",
            "1364/1364 [==============================] - 28s 20ms/step - loss: 0.7405 - acc: 0.8043 - f1_m: 0.8237 - precision_m: 0.9241 - recall_m: 0.7735 - val_loss: 0.5077 - val_acc: 0.8571 - val_f1_m: 0.8915 - val_precision_m: 0.9793 - val_recall_m: 0.8476\n",
            "Epoch 5/7\n",
            "1362/1364 [============================>.] - ETA: 0s - loss: 0.6111 - acc: 0.8359 - f1_m: 0.8634 - precision_m: 0.9501 - recall_m: 0.8201\n",
            "Epoch 00005: val_acc improved from 0.85714 to 0.89133, saving model to model_cnn.hdf5\n",
            "1364/1364 [==============================] - 28s 20ms/step - loss: 0.6119 - acc: 0.8358 - f1_m: 0.8634 - precision_m: 0.9501 - recall_m: 0.8200 - val_loss: 0.4223 - val_acc: 0.8913 - val_f1_m: 0.9240 - val_precision_m: 0.9939 - val_recall_m: 0.8890\n",
            "Epoch 6/7\n",
            "1363/1364 [============================>.] - ETA: 0s - loss: 0.5858 - acc: 0.8551 - f1_m: 0.8824 - precision_m: 0.9538 - recall_m: 0.8467\n",
            "Epoch 00006: val_acc improved from 0.89133 to 0.90232, saving model to model_cnn.hdf5\n",
            "1364/1364 [==============================] - 28s 20ms/step - loss: 0.5855 - acc: 0.8552 - f1_m: 0.8825 - precision_m: 0.9538 - recall_m: 0.8468 - val_loss: 0.3957 - val_acc: 0.9023 - val_f1_m: 0.9260 - val_precision_m: 0.9951 - val_recall_m: 0.8915\n",
            "Epoch 7/7\n",
            "1363/1364 [============================>.] - ETA: 0s - loss: 0.5766 - acc: 0.8584 - f1_m: 0.8835 - precision_m: 0.9519 - recall_m: 0.8492\n",
            "Epoch 00007: val_acc improved from 0.90232 to 0.90720, saving model to model_cnn.hdf5\n",
            "1364/1364 [==============================] - 28s 21ms/step - loss: 0.5774 - acc: 0.8581 - f1_m: 0.8833 - precision_m: 0.9520 - recall_m: 0.8490 - val_loss: 0.3928 - val_acc: 0.9072 - val_f1_m: 0.9232 - val_precision_m: 0.9915 - val_recall_m: 0.8890\n"
          ],
          "name": "stdout"
        }
      ]
    },
    {
      "cell_type": "code",
      "metadata": {
        "id": "YGkWudefiFXU",
        "colab_type": "code",
        "colab": {
          "base_uri": "https://localhost:8080/",
          "height": 295
        },
        "outputId": "461830bd-3fe6-4db3-df3a-bd8ea302355d"
      },
      "source": [
        "# loss curve\n",
        "fig1=plt.figure()\n",
        "plt.plot(history.history['loss'])\n",
        "plt.plot(history.history['val_loss'])\n",
        "plt.legend(['Training loss', 'Validation Loss'])\n",
        "plt.xlabel('Epochs ')\n",
        "plt.ylabel('Loss')\n",
        "plt.title('Loss Curves :CNN')\n",
        "fig1.savefig('Loss_cnn.png')\n",
        "plt.show(fig1)"
      ],
      "execution_count": 48,
      "outputs": [
        {
          "output_type": "display_data",
          "data": {
            "image/png": "[encoded data removed]",
            "text/plain": [
              "<Figure size 432x288 with 1 Axes>"
            ]
          },
          "metadata": {
            "tags": [],
            "needs_background": "light"
          }
        }
      ]
    },
    {
      "cell_type": "code",
      "metadata": {
        "id": "R1-mBW3EiPPI",
        "colab_type": "code",
        "colab": {
          "base_uri": "https://localhost:8080/",
          "height": 295
        },
        "outputId": "97b7588f-3421-4c68-dc87-fad5a85dcffe"
      },
      "source": [
        "# accuracy curve\n",
        "fig2=plt.figure()\n",
        "plt.plot(history.history['acc'])\n",
        "plt.plot(history.history['val_acc'])\n",
        "plt.legend(['Training Accuracy', 'Validation Accuracy'])\n",
        "plt.xlabel('Epochs ')\n",
        "plt.ylabel('Accuracy')\n",
        "plt.title('Accuracy Curves : CNN')\n",
        "fig2.savefig('accuracy_cnn.png')\n",
        "plt.show(fig2)"
      ],
      "execution_count": 49,
      "outputs": [
        {
          "output_type": "display_data",
          "data": {
            "image/png": "[encoded data removed]",
            "text/plain": [
              "<Figure size 432x288 with 1 Axes>"
            ]
          },
          "metadata": {
            "tags": [],
            "needs_background": "light"
          }
        }
      ]
    },
    {
      "cell_type": "markdown",
      "metadata": {
        "id": "JWZBTAjHy4NB",
        "colab_type": "text"
      },
      "source": [
        "<b>Model Testing</b>"
      ]
    },
    {
      "cell_type": "code",
      "metadata": {
        "id": "-ibYCXZ9KnG7",
        "colab_type": "code",
        "colab": {}
      },
      "source": [
        "\n",
        "model.load_weights(\"model_cnn.hdf5\")\n"
      ],
      "execution_count": 50,
      "outputs": []
    },
    {
      "cell_type": "code",
      "metadata": {
        "id": "9-HrwpXTMTiX",
        "colab_type": "code",
        "colab": {
          "base_uri": "https://localhost:8080/",
          "height": 121
        },
        "outputId": "b3013556-cdc8-467a-f4d4-d2ee9130046c"
      },
      "source": [
        "model.evaluate(xtest, ytest)"
      ],
      "execution_count": 51,
      "outputs": [
        {
          "output_type": "stream",
          "text": [
            "37/37 [==============================] - 1s 34ms/step - loss: 0.4797 - acc: 0.8906 - f1_m: 0.9246 - precision_m: 0.9950 - recall_m: 0.8659\n"
          ],
          "name": "stdout"
        },
        {
          "output_type": "execute_result",
          "data": {
            "text/plain": [
              "[0.47972527146339417,\n",
              " 0.8905982971191406,\n",
              " 0.9245938658714294,\n",
              " 0.994986355304718,\n",
              " 0.8658971190452576]"
            ]
          },
          "metadata": {
            "tags": []
          },
          "execution_count": 51
        }
      ]
    },
    {
      "cell_type": "markdown",
      "metadata": {
        "id": "8e-pC2dZ1OYb",
        "colab_type": "text"
      },
      "source": [
        "# 8. Unbalance problem - Solution"
      ]
    },
    {
      "cell_type": "markdown",
      "metadata": {
        "id": "_qjZbQgj1UMU",
        "colab_type": "text"
      },
      "source": [
        "\n",
        "\n",
        "There are several ways to fight imbalance:\n",
        "\n",
        "1. Undersampling\n",
        "2. Oversampling\n",
        "\n",
        "Undersampling is cutting off some observations of the major classes to make them more comparable in count with the minor ones. Due to the amount of data we have, such approach might not be profitable, as we make the amount of data even smaller, which might affect model quality. But still we can try.\n",
        "Simple random drop of some observations share based on the assumption that dropping some samples will not affect he distribution. Randomness of the samples pick and small amount of data doesn't ensure it. So we need to apply more complex methods.\n",
        "\n",
        "Oversampling, counterwise to undersampling, is adding more copies of observations from minor classes to straighted classes distribution. As we are working with text data, doubling some samples will probably lead to overfitting on these samples. So, just like in the case of undersampling we will need more complex approach."
      ]
    },
    {
      "cell_type": "code",
      "metadata": {
        "id": "k1v0IpePXPUQ",
        "colab_type": "code",
        "colab": {
          "base_uri": "https://localhost:8080/",
          "height": 52
        },
        "outputId": "611cc646-b627-4ec7-a753-dd635dabd083"
      },
      "source": [
        "naive_underSample = RandomUnderSampler(sampling_strategy = 'majority')\n",
        "\n",
        "X, y = naive_underSample.fit_resample(X, y)\n",
        "print(f\"Modified set observations {X.shape[0]}\")\n",
        "print(f\"Modified set target classes {len(set(y))}\")"
      ],
      "execution_count": 52,
      "outputs": [
        {
          "output_type": "stream",
          "text": [
            "Modified set observations 2914\n",
            "Modified set target classes 12\n"
          ],
          "name": "stdout"
        }
      ]
    },
    {
      "cell_type": "code",
      "metadata": {
        "id": "0sdvZvWeXYgP",
        "colab_type": "code",
        "colab": {}
      },
      "source": [
        "# DataFrame for result evaluation\n",
        "\n",
        "naive_result = pd.DataFrame(columns = ['Preprocessing', 'Model', 'Precision', 'Recall', 'F1-score', 'Accuracy'])\n",
        "\n",
        "naive_underSample = RandomUnderSampler(sampling_strategy = 'majority')"
      ],
      "execution_count": 53,
      "outputs": []
    },
    {
      "cell_type": "code",
      "metadata": {
        "id": "CdEp-lRyXoMJ",
        "colab_type": "code",
        "colab": {}
      },
      "source": [
        "\n",
        "# Testing Word2vec\n",
        "\n",
        "X, y = word2vec(MTdata_100)\n",
        "X, y = naive_underSample.fit_resample(X, y)\n",
        "X_train_lr, X_test_lr, y_train_lr, y_test_lr = train_test_split(X, y, test_size=0.3, random_state=42)\n",
        "naive_result = naive_result.append(log_reg(X_train_lr, X_test_lr, y_train_lr, y_test_lr, 'Word2vec'), ignore_index = True)"
      ],
      "execution_count": 54,
      "outputs": []
    },
    {
      "cell_type": "code",
      "metadata": {
        "id": "aBx-QGk8X434",
        "colab_type": "code",
        "colab": {
          "base_uri": "https://localhost:8080/",
          "height": 79
        },
        "outputId": "eeed69c3-c70e-409d-d2e6-55c9a9f75850"
      },
      "source": [
        "naive_result"
      ],
      "execution_count": 55,
      "outputs": [
        {
          "output_type": "execute_result",
          "data": {
            "text/html": [
              "<div>\n",
              "<style scoped>\n",
              "    .dataframe tbody tr th:only-of-type {\n",
              "        vertical-align: middle;\n",
              "    }\n",
              "\n",
              "    .dataframe tbody tr th {\n",
              "        vertical-align: top;\n",
              "    }\n",
              "\n",
              "    .dataframe thead th {\n",
              "        text-align: right;\n",
              "    }\n",
              "</style>\n",
              "<table border=\"1\" class=\"dataframe\">\n",
              "  <thead>\n",
              "    <tr style=\"text-align: right;\">\n",
              "      <th></th>\n",
              "      <th>Preprocessing</th>\n",
              "      <th>Model</th>\n",
              "      <th>Precision</th>\n",
              "      <th>Recall</th>\n",
              "      <th>F1-score</th>\n",
              "      <th>Accuracy</th>\n",
              "    </tr>\n",
              "  </thead>\n",
              "  <tbody>\n",
              "    <tr>\n",
              "      <th>0</th>\n",
              "      <td>Word2vec</td>\n",
              "      <td>Logistic Regression</td>\n",
              "      <td>0.612433</td>\n",
              "      <td>0.499429</td>\n",
              "      <td>0.535144</td>\n",
              "      <td>0.499429</td>\n",
              "    </tr>\n",
              "  </tbody>\n",
              "</table>\n",
              "</div>"
            ],
            "text/plain": [
              "  Preprocessing                Model  Precision    Recall  F1-score  Accuracy\n",
              "0      Word2vec  Logistic Regression   0.612433  0.499429  0.535144  0.499429"
            ]
          },
          "metadata": {
            "tags": []
          },
          "execution_count": 55
        }
      ]
    },
    {
      "cell_type": "markdown",
      "metadata": {
        "id": "9yPW1S6g1hO9",
        "colab_type": "text"
      },
      "source": [
        "One can see, that naive approach didn't make any significant gain in metrics. Recall became better in overall, but precision dropped. F1-score therefore slightly decreased.\n",
        "Using NearMiss method alternatively."
      ]
    },
    {
      "cell_type": "code",
      "metadata": {
        "id": "Ec1raddkYEd1",
        "colab_type": "code",
        "colab": {
          "base_uri": "https://localhost:8080/",
          "height": 52
        },
        "outputId": "3a69bea2-db44-4d68-fab4-9598647e25a5"
      },
      "source": [
        "near_underSample = NearMiss(sampling_strategy='majority')\n",
        "\n",
        "X, y = near_underSample.fit_resample(X, y)\n",
        "print(f\"Modified set observations {X.shape[0]}\")\n",
        "print(f\"Modified set target classes {len(set(y))}\")"
      ],
      "execution_count": 56,
      "outputs": [
        {
          "output_type": "stream",
          "text": [
            "Modified set observations 2506\n",
            "Modified set target classes 12\n"
          ],
          "name": "stdout"
        }
      ]
    },
    {
      "cell_type": "code",
      "metadata": {
        "id": "4noQxv94YLgd",
        "colab_type": "code",
        "colab": {}
      },
      "source": [
        "# DataFrame for result evaluation\n",
        "\n",
        "near_result = pd.DataFrame(columns = ['Preprocessing', 'Model', 'Precision', 'Recall', 'F1-score', 'Accuracy'])\n",
        "\n",
        "near_underSample = NearMiss(sampling_strategy='majority')"
      ],
      "execution_count": 57,
      "outputs": []
    },
    {
      "cell_type": "code",
      "metadata": {
        "id": "YHSQuTBWYQYz",
        "colab_type": "code",
        "colab": {}
      },
      "source": [
        "# Testing Word2vec\n",
        "\n",
        "X, y = word2vec(MTdata_100)\n",
        "X, y = near_underSample.fit_resample(X, y)\n",
        "X_train_lr, X_test_lr, y_train_lr, y_test_lr = train_test_split(X, y, test_size=0.3, random_state=42)\n",
        "near_result = near_result.append(log_reg(X_train_lr, X_test_lr, y_train_lr, y_test_lr, 'Word2vec'), ignore_index = True)"
      ],
      "execution_count": 58,
      "outputs": []
    },
    {
      "cell_type": "code",
      "metadata": {
        "id": "HkqSp7CgYlzm",
        "colab_type": "code",
        "colab": {
          "base_uri": "https://localhost:8080/",
          "height": 79
        },
        "outputId": "e60b478f-b424-481a-d302-9a4c9e055ed9"
      },
      "source": [
        "near_result"
      ],
      "execution_count": 59,
      "outputs": [
        {
          "output_type": "execute_result",
          "data": {
            "text/html": [
              "<div>\n",
              "<style scoped>\n",
              "    .dataframe tbody tr th:only-of-type {\n",
              "        vertical-align: middle;\n",
              "    }\n",
              "\n",
              "    .dataframe tbody tr th {\n",
              "        vertical-align: top;\n",
              "    }\n",
              "\n",
              "    .dataframe thead th {\n",
              "        text-align: right;\n",
              "    }\n",
              "</style>\n",
              "<table border=\"1\" class=\"dataframe\">\n",
              "  <thead>\n",
              "    <tr style=\"text-align: right;\">\n",
              "      <th></th>\n",
              "      <th>Preprocessing</th>\n",
              "      <th>Model</th>\n",
              "      <th>Precision</th>\n",
              "      <th>Recall</th>\n",
              "      <th>F1-score</th>\n",
              "      <th>Accuracy</th>\n",
              "    </tr>\n",
              "  </thead>\n",
              "  <tbody>\n",
              "    <tr>\n",
              "      <th>0</th>\n",
              "      <td>Word2vec</td>\n",
              "      <td>Logistic Regression</td>\n",
              "      <td>0.614845</td>\n",
              "      <td>0.499429</td>\n",
              "      <td>0.534958</td>\n",
              "      <td>0.499429</td>\n",
              "    </tr>\n",
              "  </tbody>\n",
              "</table>\n",
              "</div>"
            ],
            "text/plain": [
              "  Preprocessing                Model  Precision    Recall  F1-score  Accuracy\n",
              "0      Word2vec  Logistic Regression   0.614845  0.499429  0.534958  0.499429"
            ]
          },
          "metadata": {
            "tags": []
          },
          "execution_count": 59
        }
      ]
    },
    {
      "cell_type": "markdown",
      "metadata": {
        "id": "eQGmfTjM1nrr",
        "colab_type": "text"
      },
      "source": [
        "NearMiss method gave almost the same result as naive approach.\n",
        "Applying SMOTE over sampling and checking the scores againg"
      ]
    },
    {
      "cell_type": "code",
      "metadata": {
        "id": "nRwCkAzTYprl",
        "colab_type": "code",
        "colab": {
          "base_uri": "https://localhost:8080/",
          "height": 52
        },
        "outputId": "c8a88238-93a5-4b8d-c7bf-b8dccd7f3213"
      },
      "source": [
        "smote_overSample = SMOTE(sampling_strategy='minority')\n",
        "\n",
        "X, y = smote_overSample.fit_resample(X, y)\n",
        "print(f\"Modified set observations {X.shape[0]}\")\n",
        "print(f\"Modified set target classes {len(set(y))}\")"
      ],
      "execution_count": 60,
      "outputs": [
        {
          "output_type": "stream",
          "text": [
            "Modified set observations 3322\n",
            "Modified set target classes 12\n"
          ],
          "name": "stdout"
        }
      ]
    },
    {
      "cell_type": "code",
      "metadata": {
        "id": "_aKbAyc3YpnM",
        "colab_type": "code",
        "colab": {}
      },
      "source": [
        "# DataFrame for result evaluation\n",
        "\n",
        "smote_result = pd.DataFrame(columns = ['Preprocessing', 'Model', 'Precision', 'Recall', 'F1-score', 'Accuracy'])\n",
        "\n",
        "smote_overSample = SMOTE(sampling_strategy='minority')\n",
        "\n",
        "# Testing Word2vec\n",
        "\n",
        "X, y = word2vec(MTdata_100)\n",
        "X, y = smote_overSample.fit_resample(X, y)\n",
        "X_train_lr, X_test_lr, y_train_lr, y_test_lr = train_test_split(X, y, test_size=0.3, random_state=42)\n",
        "smote_result = smote_result.append(log_reg(X_train_lr, X_test_lr, y_train_lr, y_test_lr, 'Word2vec'), ignore_index = True)"
      ],
      "execution_count": 61,
      "outputs": []
    },
    {
      "cell_type": "code",
      "metadata": {
        "id": "uC9cqUgJZGYd",
        "colab_type": "code",
        "colab": {
          "base_uri": "https://localhost:8080/",
          "height": 79
        },
        "outputId": "6818a161-e6e8-489f-ae18-0dd861edd776"
      },
      "source": [
        "smote_result"
      ],
      "execution_count": 62,
      "outputs": [
        {
          "output_type": "execute_result",
          "data": {
            "text/html": [
              "<div>\n",
              "<style scoped>\n",
              "    .dataframe tbody tr th:only-of-type {\n",
              "        vertical-align: middle;\n",
              "    }\n",
              "\n",
              "    .dataframe tbody tr th {\n",
              "        vertical-align: top;\n",
              "    }\n",
              "\n",
              "    .dataframe thead th {\n",
              "        text-align: right;\n",
              "    }\n",
              "</style>\n",
              "<table border=\"1\" class=\"dataframe\">\n",
              "  <thead>\n",
              "    <tr style=\"text-align: right;\">\n",
              "      <th></th>\n",
              "      <th>Preprocessing</th>\n",
              "      <th>Model</th>\n",
              "      <th>Precision</th>\n",
              "      <th>Recall</th>\n",
              "      <th>F1-score</th>\n",
              "      <th>Accuracy</th>\n",
              "    </tr>\n",
              "  </thead>\n",
              "  <tbody>\n",
              "    <tr>\n",
              "      <th>0</th>\n",
              "      <td>Word2vec</td>\n",
              "      <td>Logistic Regression</td>\n",
              "      <td>0.678548</td>\n",
              "      <td>0.545455</td>\n",
              "      <td>0.595029</td>\n",
              "      <td>0.545455</td>\n",
              "    </tr>\n",
              "  </tbody>\n",
              "</table>\n",
              "</div>"
            ],
            "text/plain": [
              "  Preprocessing                Model  Precision    Recall  F1-score  Accuracy\n",
              "0      Word2vec  Logistic Regression   0.678548  0.545455  0.595029  0.545455"
            ]
          },
          "metadata": {
            "tags": []
          },
          "execution_count": 62
        }
      ]
    },
    {
      "cell_type": "markdown",
      "metadata": {
        "id": "5cgVouKV1vkP",
        "colab_type": "text"
      },
      "source": [
        "SMOTE generated oversampling procedure gave a huge leap in quality. More importantly - the quality have got gain in every direction, including both precision and recall.\n"
      ]
    },
    {
      "cell_type": "markdown",
      "metadata": {
        "id": "vUjYtLxx13H5",
        "colab_type": "text"
      },
      "source": [
        "Best model of all we have received is word2vec on SMOTE trained on Logistic Regression.\n",
        "\n",
        "Let's look at its confusion matrix."
      ]
    },
    {
      "cell_type": "code",
      "metadata": {
        "id": "kNT19BcxZT6y",
        "colab_type": "code",
        "colab": {}
      },
      "source": [
        "X, y = word2vec(MTdata_100)\n",
        "X, y = smote_overSample.fit_resample(X, y)\n",
        "X_train_smote, X_test_smote, y_train_smote, y_test_smote = train_test_split(X, y, test_size=0.3, random_state=42)\n",
        "clf_word2vec_smote = LogisticRegressionCV(cv = skf_folds, solver = 'saga', multi_class = 'multinomial', n_jobs = -1)\n",
        "clf_word2vec_smote.fit(X_train_smote, y_train_smote)\n",
        "y_pred = clf_word2vec_smote.predict(X_test_smote)"
      ],
      "execution_count": 63,
      "outputs": []
    },
    {
      "cell_type": "code",
      "metadata": {
        "id": "gTb2AKKUZt81",
        "colab_type": "code",
        "colab": {
          "base_uri": "https://localhost:8080/",
          "height": 1000
        },
        "outputId": "b7a5de11-4ed9-48d6-dcb6-cffe1b017a31"
      },
      "source": [
        "cm = confusion_matrix(y_test_smote, y_pred)\n",
        "fig = plt.figure(figsize=(16, 16))\n",
        "plot = plot_confusion_matrix_logreg(cm, classes=classes, normalize=False, \n",
        "                             title='Confusion matrix')\n",
        "plt.savefig('confusion2.png')\n",
        "plt.show()\n"
      ],
      "execution_count": 64,
      "outputs": [
        {
          "output_type": "display_data",
          "data": {
            "image/png": "[encoded data removed]",
            "text/plain": [
              "<Figure size 1152x1152 with 2 Axes>"
            ]
          },
          "metadata": {
            "tags": [],
            "needs_background": "light"
          }
        }
      ]
    },
    {
      "cell_type": "markdown",
      "metadata": {
        "id": "0oyQYqphNVlT",
        "colab_type": "text"
      },
      "source": [
        "One way to see how the model works is to manually watch at the most valuable and the least valuable words for the class."
      ]
    },
    {
      "cell_type": "code",
      "metadata": {
        "id": "ye0Ozf4ENOCY",
        "colab_type": "code",
        "colab": {}
      },
      "source": [
        "store_vector = w2v\n",
        "\n",
        "# creating a pipeline for the word2vec flow so that the lime functionality can be used to predict important words\n",
        "def word2vec_flow(values):\n",
        "    global store_vector\n",
        "    tokenizer = RegexpTokenizer(r'\\w+')\n",
        "    tokenized_list = []\n",
        "    for value in values:\n",
        "        value_tokens = tokenizer.tokenize(value)\n",
        "        wv_vectorized = average_word2vec(value_tokens, store_vector, generate_missing=False, k=300)\n",
        "        tokenized_list.append(wv_vectorized)\n",
        "    return clf_word2vec.predict_proba(tokenized_list)\n",
        "\n",
        "c = make_pipeline(CountVectorizer(), log_reg_clf)\n",
        "\n",
        "random.seed(40) # to create a random sequence \n",
        "\n",
        "#applying preprocessing () to the data for this explaination\n",
        "MTdata_100_prep = preprocess(MTdata_100)\n",
        "dict_list = MTdata_100_prep[\"text\"].tolist()\n",
        "labels_list = MTdata_100_prep[\"class_label\"].tolist()\n",
        "\n",
        "# splitting the dataset which will be used to predict the important words later\n",
        "X_train_data, X_test_data, y_train_data, y_test_data = train_test_split(dict_list, labels_list, test_size=0.3, \n",
        "                                                                                random_state=42)\n",
        "# defining a function to make use of lime explainer\n",
        "def statistic(test_set, sample_size, word2vec_flow, label_dict):\n",
        "    sample_sentences = random.sample(test_set, sample_size)\n",
        "    explainer = LimeTextExplainer()\n",
        "    \n",
        "    labels_to_sentences = defaultdict(list)\n",
        "    contributors = defaultdict(dict)\n",
        "    \n",
        "    # First, find contributing words to each class\n",
        "    for sentence in sample_sentences:\n",
        "        probabilities = word2vec_flow([sentence])\n",
        "        label_initial = probabilities[0].argmax()\n",
        "        labels_to_sentences[label_initial].append(sentence)\n",
        "        exp = explainer.explain_instance(sentence, word2vec_flow, num_features=6, labels=[label_initial])\n",
        "        listed_explanation = exp.as_list(label=label_initial)\n",
        "        \n",
        "        for word,contributing_weight in listed_explanation:\n",
        "            if word in contributors[label_initial]:\n",
        "                contributors[label_initial][word].append(contributing_weight)\n",
        "            else:\n",
        "                contributors[label_initial][word] = [contributing_weight]    \n",
        "    \n",
        "    # average each word's contribution to a class, and sort them by impact\n",
        "    average_word_value = {}\n",
        "    sorted_word_value = {}\n",
        "    for label,lexica in contributors.items():\n",
        "        label_initial = label\n",
        "        curr_lexica = lexica\n",
        "        average_word_value[label_initial] = pd.Series(index=curr_lexica.keys())\n",
        "        for word,scores in curr_lexica.items():\n",
        "            average_word_value[label_initial].loc[word] = np.sum(np.array(scores))/sample_size\n",
        "        detractors = average_word_value[label_initial].sort_values()\n",
        "        supporters = average_word_value[label_initial].sort_values(ascending=False)\n",
        "        sorted_word_value[label_dict[label_initial]] = {\n",
        "            'detractors':detractors,\n",
        "             'supporters': supporters\n",
        "        }\n",
        "    return sorted_word_value\n",
        "\n",
        "label_to_text = {\n",
        "    0: ' Cardiovascular / Pulmonary',\n",
        "    1: ' Consult - History and Phy.',\n",
        "    2: ' Discharge Summary',\n",
        "    3: ' Gastroenterology',\n",
        "    4: ' General Medicine',\n",
        "    5: ' Neurology',\n",
        "    6: ' Obstetrics / Gynecology',\n",
        "    7: ' Orthopedic',\n",
        "    8: ' Radiology',\n",
        "    9: ' SOAP / Chart / Progress Notes',\n",
        "    10: ' Surgery',\n",
        "    11: ' Urology'\n",
        "}\n",
        "sorted_word_value = statistic(X_test_data, 100, word2vec_flow, label_to_text)"
      ],
      "execution_count": 65,
      "outputs": []
    },
    {
      "cell_type": "code",
      "metadata": {
        "id": "RBnAbJu4Zw7l",
        "colab_type": "code",
        "colab": {
          "base_uri": "https://localhost:8080/",
          "height": 417
        },
        "outputId": "ab544532-ab9c-45c5-a54b-bab467e30792"
      },
      "source": [
        "final_metrics = pd.DataFrame({'Labels': range(12), \n",
        "                              'Recall': recall_score(y_pred, y_test_smote, average = None),\n",
        "                             'Precision': precision_score(y_pred, y_test_smote, average = None),\n",
        "                             'F1-score': f1_score(y_pred, y_test_smote, average = None)})\n",
        "final_metrics['Labels'] = final_metrics['Labels'].replace(label_to_text)\n",
        "final_metrics"
      ],
      "execution_count": 66,
      "outputs": [
        {
          "output_type": "execute_result",
          "data": {
            "text/html": [
              "<div>\n",
              "<style scoped>\n",
              "    .dataframe tbody tr th:only-of-type {\n",
              "        vertical-align: middle;\n",
              "    }\n",
              "\n",
              "    .dataframe tbody tr th {\n",
              "        vertical-align: top;\n",
              "    }\n",
              "\n",
              "    .dataframe thead th {\n",
              "        text-align: right;\n",
              "    }\n",
              "</style>\n",
              "<table border=\"1\" class=\"dataframe\">\n",
              "  <thead>\n",
              "    <tr style=\"text-align: right;\">\n",
              "      <th></th>\n",
              "      <th>Labels</th>\n",
              "      <th>Recall</th>\n",
              "      <th>Precision</th>\n",
              "      <th>F1-score</th>\n",
              "    </tr>\n",
              "  </thead>\n",
              "  <tbody>\n",
              "    <tr>\n",
              "      <th>0</th>\n",
              "      <td>Cardiovascular / Pulmonary</td>\n",
              "      <td>0.351351</td>\n",
              "      <td>0.250000</td>\n",
              "      <td>0.292135</td>\n",
              "    </tr>\n",
              "    <tr>\n",
              "      <th>1</th>\n",
              "      <td>Consult - History and Phy.</td>\n",
              "      <td>0.357143</td>\n",
              "      <td>0.576923</td>\n",
              "      <td>0.441176</td>\n",
              "    </tr>\n",
              "    <tr>\n",
              "      <th>2</th>\n",
              "      <td>Discharge Summary</td>\n",
              "      <td>0.753521</td>\n",
              "      <td>0.981651</td>\n",
              "      <td>0.852590</td>\n",
              "    </tr>\n",
              "    <tr>\n",
              "      <th>3</th>\n",
              "      <td>Gastroenterology</td>\n",
              "      <td>0.409091</td>\n",
              "      <td>0.136364</td>\n",
              "      <td>0.204545</td>\n",
              "    </tr>\n",
              "    <tr>\n",
              "      <th>4</th>\n",
              "      <td>General Medicine</td>\n",
              "      <td>0.375000</td>\n",
              "      <td>0.076923</td>\n",
              "      <td>0.127660</td>\n",
              "    </tr>\n",
              "    <tr>\n",
              "      <th>5</th>\n",
              "      <td>Neurology</td>\n",
              "      <td>0.413793</td>\n",
              "      <td>0.320000</td>\n",
              "      <td>0.360902</td>\n",
              "    </tr>\n",
              "    <tr>\n",
              "      <th>6</th>\n",
              "      <td>Obstetrics / Gynecology</td>\n",
              "      <td>0.263158</td>\n",
              "      <td>0.111111</td>\n",
              "      <td>0.156250</td>\n",
              "    </tr>\n",
              "    <tr>\n",
              "      <th>7</th>\n",
              "      <td>Orthopedic</td>\n",
              "      <td>0.372727</td>\n",
              "      <td>0.414141</td>\n",
              "      <td>0.392344</td>\n",
              "    </tr>\n",
              "    <tr>\n",
              "      <th>8</th>\n",
              "      <td>Radiology</td>\n",
              "      <td>0.481481</td>\n",
              "      <td>0.276596</td>\n",
              "      <td>0.351351</td>\n",
              "    </tr>\n",
              "    <tr>\n",
              "      <th>9</th>\n",
              "      <td>SOAP / Chart / Progress Notes</td>\n",
              "      <td>0.250000</td>\n",
              "      <td>0.022222</td>\n",
              "      <td>0.040816</td>\n",
              "    </tr>\n",
              "    <tr>\n",
              "      <th>10</th>\n",
              "      <td>Surgery</td>\n",
              "      <td>0.565032</td>\n",
              "      <td>0.761494</td>\n",
              "      <td>0.648715</td>\n",
              "    </tr>\n",
              "    <tr>\n",
              "      <th>11</th>\n",
              "      <td>Urology</td>\n",
              "      <td>1.000000</td>\n",
              "      <td>0.019231</td>\n",
              "      <td>0.037736</td>\n",
              "    </tr>\n",
              "  </tbody>\n",
              "</table>\n",
              "</div>"
            ],
            "text/plain": [
              "                            Labels    Recall  Precision  F1-score\n",
              "0       Cardiovascular / Pulmonary  0.351351   0.250000  0.292135\n",
              "1       Consult - History and Phy.  0.357143   0.576923  0.441176\n",
              "2                Discharge Summary  0.753521   0.981651  0.852590\n",
              "3                 Gastroenterology  0.409091   0.136364  0.204545\n",
              "4                 General Medicine  0.375000   0.076923  0.127660\n",
              "5                        Neurology  0.413793   0.320000  0.360902\n",
              "6          Obstetrics / Gynecology  0.263158   0.111111  0.156250\n",
              "7                       Orthopedic  0.372727   0.414141  0.392344\n",
              "8                        Radiology  0.481481   0.276596  0.351351\n",
              "9    SOAP / Chart / Progress Notes  0.250000   0.022222  0.040816\n",
              "10                         Surgery  0.565032   0.761494  0.648715\n",
              "11                         Urology  1.000000   0.019231  0.037736"
            ]
          },
          "metadata": {
            "tags": []
          },
          "execution_count": 66
        }
      ]
    },
    {
      "cell_type": "markdown",
      "metadata": {
        "id": "1APQHg-518KD",
        "colab_type": "text"
      },
      "source": [
        "The result is still not perfect, but yet it is much better, than it was in the beginning. Some classes are recognized pretty well.\n"
      ]
    },
    {
      "cell_type": "code",
      "metadata": {
        "id": "CW5tBkJaJswE",
        "colab_type": "code",
        "colab": {
          "base_uri": "https://localhost:8080/",
          "height": 681
        },
        "outputId": "d35f8394-a14f-4524-8433-33162d3a8fc1"
      },
      "source": [
        "def important_word_plot(top_scores, most_important_word, bottom_scores, least_important_word, name):\n",
        "    y_pos = np.arange(len(most_important_word))\n",
        "    important_word_pairs = [(a,b) for a,b in zip(most_important_word, top_scores)]\n",
        "    important_word_pairs = sorted(important_word_pairs, key=lambda x: x[1])\n",
        "    \n",
        "    least_important_word_pairs = [(a,b) for a,b in zip(least_important_word, bottom_scores)]\n",
        "    least_important_word_pairs = sorted(least_important_word_pairs, key=lambda x: x[1], reverse=True)\n",
        "    \n",
        "    most_important_word = [a[0] for a in important_word_pairs]\n",
        "    top_scores = [a[1] for a in important_word_pairs]\n",
        "    \n",
        "    least_important_word = [a[0] for a in least_important_word_pairs]\n",
        "    bottom_scores = [a[1] for a in least_important_word_pairs]\n",
        "    \n",
        "    fig = plt.figure(figsize=(10, 10))  \n",
        "\n",
        "    plt.subplot(121)\n",
        "    plt.barh(y_pos,bottom_scores, align='center', alpha=0.5)\n",
        "    plt.title('Irrelevant', fontsize=14)\n",
        "    plt.yticks(y_pos, least_important_word, fontsize=10)\n",
        "    plt.suptitle('Key words', fontsize=12)\n",
        "    plt.xlabel('Importance', fontsize=12)\n",
        "    \n",
        "    plt.subplot(122)\n",
        "    plt.barh(y_pos,top_scores, align='center', alpha=0.5)\n",
        "    plt.title(\"Relevant for \" + name, fontsize=14)\n",
        "    plt.yticks(y_pos, most_important_word, fontsize=12)\n",
        "    plt.suptitle(f\"Most important words for {name}\", fontsize=16)\n",
        "    plt.xlabel('Importance', fontsize=12)\n",
        "    \n",
        "    plt.subplots_adjust(wspace=0.8)\n",
        "    plt.show()\n",
        "\n",
        "test_label = ' Neurology'\n",
        "most_important_word = sorted_word_value[test_label]['supporters'][:5].index.tolist()\n",
        "top_scores = sorted_word_value[test_label]['supporters'][:5].tolist()\n",
        "least_important_word = sorted_word_value[test_label]['detractors'][:5].index.tolist()\n",
        "bottom_scores = sorted_word_value[test_label]['detractors'][:5].tolist()\n",
        "\n",
        "important_word_plot(top_scores, most_important_word, bottom_scores, least_important_word, test_label)"
      ],
      "execution_count": 67,
      "outputs": [
        {
          "output_type": "display_data",
          "data": {
            "image/png": "[encoded data removed]",
            "text/plain": [
              "<Figure size 720x720 with 2 Axes>"
            ]
          },
          "metadata": {
            "tags": [],
            "needs_background": "light"
          }
        }
      ]
    },
    {
      "cell_type": "code",
      "metadata": {
        "id": "cfrq1OmJJxgI",
        "colab_type": "code",
        "colab": {
          "base_uri": "https://localhost:8080/",
          "height": 681
        },
        "outputId": "3eb915bb-0c90-487d-89aa-6b3475168090"
      },
      "source": [
        "test_label = ' Cardiovascular / Pulmonary'\n",
        "most_important_word = sorted_word_value[test_label]['supporters'][:5].index.tolist()\n",
        "top_scores = sorted_word_value[test_label]['supporters'][:5].tolist()\n",
        "least_important_word = sorted_word_value[test_label]['detractors'][:5].index.tolist()\n",
        "bottom_scores = sorted_word_value[test_label]['detractors'][:5].tolist()\n",
        "\n",
        "important_word_plot(top_scores, most_important_word, bottom_scores, least_important_word, test_label)"
      ],
      "execution_count": 68,
      "outputs": [
        {
          "output_type": "display_data",
          "data": {
            "image/png": "[encoded data removed]",
            "text/plain": [
              "<Figure size 720x720 with 2 Axes>"
            ]
          },
          "metadata": {
            "tags": [],
            "needs_background": "light"
          }
        }
      ]
    },
    {
      "cell_type": "code",
      "metadata": {
        "id": "r8CyIue1QxH6",
        "colab_type": "code",
        "colab": {
          "base_uri": "https://localhost:8080/",
          "height": 52
        },
        "outputId": "07ca43da-ee37-4419-c22f-f44854745303"
      },
      "source": [
        "smote_result['F1-score']"
      ],
      "execution_count": 69,
      "outputs": [
        {
          "output_type": "execute_result",
          "data": {
            "text/plain": [
              "0    0.595029\n",
              "Name: F1-score, dtype: float64"
            ]
          },
          "metadata": {
            "tags": []
          },
          "execution_count": 69
        }
      ]
    },
    {
      "cell_type": "code",
      "metadata": {
        "id": "PIoHz5-AS9bX",
        "colab_type": "code",
        "colab": {}
      },
      "source": [
        "import pickle\n",
        "# saving the knn model to a pickle file\n",
        "with open('smote_log.pkl', 'wb') as f:\n",
        "    pickle.dump(clf_word2vec_smote, f)\n",
        "\n",
        "# loading the saved file\n",
        "with open('smote_log.pkl', 'rb') as f:\n",
        "    logreg_clf = pickle.load(f)"
      ],
      "execution_count": 70,
      "outputs": []
    },
    {
      "cell_type": "code",
      "metadata": {
        "id": "vdkc5SEkTt5S",
        "colab_type": "code",
        "colab": {
          "base_uri": "https://localhost:8080/",
          "height": 121
        },
        "outputId": "c4f3f730-7d6f-49f8-a749-1091496ff9c6"
      },
      "source": [
        "logreg_clf.fit(X_test_smote, y_test_smote)"
      ],
      "execution_count": 71,
      "outputs": [
        {
          "output_type": "execute_result",
          "data": {
            "text/plain": [
              "LogisticRegressionCV(Cs=10, class_weight=None,\n",
              "                     cv=StratifiedKFold(n_splits=3, random_state=42, shuffle=True),\n",
              "                     dual=False, fit_intercept=True, intercept_scaling=1.0,\n",
              "                     l1_ratios=None, max_iter=100, multi_class='multinomial',\n",
              "                     n_jobs=-1, penalty='l2', random_state=None, refit=True,\n",
              "                     scoring=None, solver='saga', tol=0.0001, verbose=0)"
            ]
          },
          "metadata": {
            "tags": []
          },
          "execution_count": 71
        }
      ]
    },
    {
      "cell_type": "code",
      "metadata": {
        "id": "-VF1pcJAVCdI",
        "colab_type": "code",
        "colab": {}
      },
      "source": [
        "y_pred_logreg = logreg_clf.predict(X_test_smote)"
      ],
      "execution_count": 72,
      "outputs": []
    },
    {
      "cell_type": "code",
      "metadata": {
        "id": "5USX1fYJVPYV",
        "colab_type": "code",
        "colab": {
          "base_uri": "https://localhost:8080/",
          "height": 624
        },
        "outputId": "feb00e79-4b58-42fc-862b-61573fa38d58"
      },
      "source": [
        "print(\"\\nConfusion Matrix Log Reg with Smote\\n\",confusion_matrix(y_test_smote, y_pred_logreg))\n",
        "print(\"\\nConfusion Report Log Reg with Smote\\n\",classification_report(y_test_smote, y_pred_logreg))"
      ],
      "execution_count": 73,
      "outputs": [
        {
          "output_type": "stream",
          "text": [
            "\n",
            "Confusion Matrix Log Reg with Smote\n",
            " [[ 45  11   5   0   1   0   0   0   6   0  36   0]\n",
            " [  4  81   9   0  11   8   0   6   3   4   2   2]\n",
            " [  0   0 322   0   0   1   0   4   0   0   0   0]\n",
            " [  0  12   1  28   2   0   0   0   0   0  23   0]\n",
            " [  0  18  16   0  34   2   0   2   1   4   1   0]\n",
            " [  0   7   5   0   0  43   0   3   8   0   9   0]\n",
            " [  0   5   2   0   0   0  16   0   1   0  21   0]\n",
            " [  0   3   3   0   0   1   0  44   9   0  39   0]\n",
            " [  4   0   0   0   0  14   1   2  68   0   5   0]\n",
            " [  1   5   8   0   5   0   0   2   1  22   1   0]\n",
            " [ 15   0   3  11   0   0   5  13   0   0 296   5]\n",
            " [  0   4   3   0   0   0   0   0   2   0  20  23]]\n",
            "\n",
            "Confusion Report Log Reg with Smote\n",
            "               precision    recall  f1-score   support\n",
            "\n",
            "           0       0.65      0.43      0.52       104\n",
            "           1       0.55      0.62      0.59       130\n",
            "           2       0.85      0.98      0.91       327\n",
            "           3       0.72      0.42      0.53        66\n",
            "           4       0.64      0.44      0.52        78\n",
            "           5       0.62      0.57      0.60        75\n",
            "           6       0.73      0.36      0.48        45\n",
            "           7       0.58      0.44      0.50        99\n",
            "           8       0.69      0.72      0.70        94\n",
            "           9       0.73      0.49      0.59        45\n",
            "          10       0.65      0.85      0.74       348\n",
            "          11       0.77      0.44      0.56        52\n",
            "\n",
            "    accuracy                           0.70      1463\n",
            "   macro avg       0.68      0.56      0.60      1463\n",
            "weighted avg       0.70      0.70      0.68      1463\n",
            "\n"
          ],
          "name": "stdout"
        }
      ]
    },
    {
      "cell_type": "code",
      "metadata": {
        "id": "vxiJE8aeRZ6i",
        "colab_type": "code",
        "colab": {
          "base_uri": "https://localhost:8080/",
          "height": 297
        },
        "outputId": "e4525174-d969-4e5a-8506-e7fbfc0585b6"
      },
      "source": [
        "# creating a bar plot for comparing CNN and Logistic Regression models\n",
        "\n",
        "# data to plot\n",
        "n_groups = 4\n",
        "LogReg_Smote = (0.54, 0.59, 0.67, 0.54)\n",
        "CNN = (0.85, 0.88, 0.95, 0.84)\n",
        "\n",
        "# create plot\n",
        "fig, ax = plt.subplots()\n",
        "index = np.arange(n_groups)\n",
        "bar_width = 0.35\n",
        "opacity = 0.8\n",
        "\n",
        "rects1 = plt.bar(index, LogReg_Smote, bar_width,\n",
        "alpha=opacity,\n",
        "color='b',\n",
        "label='LogReg_Smote')\n",
        "\n",
        "rects2 = plt.bar(index + bar_width, CNN, bar_width,\n",
        "alpha=opacity,\n",
        "color='g',\n",
        "label='CNN')\n",
        "\n",
        "plt.xlabel('Models')\n",
        "plt.ylabel('Score')\n",
        "plt.title('Scores by Model')\n",
        "plt.xticks(index + bar_width, ('Accuracy', 'F1 Score', 'Precision', 'Recall'))\n",
        "plt.legend()\n",
        "\n",
        "plt.tight_layout()\n",
        "plt.savefig('Comparison.png')\n",
        "plt.show()\n"
      ],
      "execution_count": 74,
      "outputs": [
        {
          "output_type": "display_data",
          "data": {
            "image/png": "[encoded data removed]",
            "text/plain": [
              "<Figure size 432x288 with 1 Axes>"
            ]
          },
          "metadata": {
            "tags": [],
            "needs_background": "light"
          }
        }
      ]
    },
    {
      "cell_type": "code",
      "metadata": {
        "id": "V__3V1EuqqqA",
        "colab_type": "code",
        "colab": {
          "base_uri": "https://localhost:8080/",
          "height": 297
        },
        "outputId": "24a604d5-7860-4ac4-8aed-0b7a35246bd2"
      },
      "source": [
        "# creating a bar plot for comparing Logistic Regression models\n",
        "\n",
        "# data to plot\n",
        "n_groups = 4\n",
        "LogReg_BaseLine = (0.38, 0.31, 0.34, 0.39)\n",
        "LogReg_UnderSampling = (0.49, 0.53, 0.61, 0.49)\n",
        "LogReg_Smote = (0.54, 0.59, 0.67, 0.54)\n",
        "\n",
        "\n",
        "# create plot\n",
        "fig, ax = plt.subplots()\n",
        "index = np.arange(n_groups)\n",
        "bar_width = 0.25\n",
        "opacity = 0.8\n",
        "\n",
        "lr_rects1 = plt.bar(index, LogReg_BaseLine, bar_width,\n",
        "alpha=opacity,\n",
        "color='b',\n",
        "label='LogReg_BaseLine')\n",
        "\n",
        "lr_rects2 = plt.bar(index + bar_width, LogReg_UnderSampling, bar_width,\n",
        "alpha=opacity,\n",
        "color='g',\n",
        "label='LogReg_UnderSampling')\n",
        "\n",
        "lr_rects3 = plt.bar(index + bar_width + bar_width, LogReg_Smote, bar_width,\n",
        "alpha=opacity,\n",
        "color='y',\n",
        "label='LogReg_Smote')\n",
        "\n",
        "\n",
        "\n",
        "plt.xlabel('Log Reg Models')\n",
        "plt.ylabel('Score')\n",
        "plt.title('Scores by Model')\n",
        "plt.xticks(index + bar_width, ('Accuracy', 'F1 Score', 'Precision', 'Recall'))\n",
        "plt.legend()\n",
        "\n",
        "plt.tight_layout()\n",
        "plt.savefig('Comparison_logreg.png')\n",
        "plt.show()\n"
      ],
      "execution_count": 81,
      "outputs": [
        {
          "output_type": "display_data",
          "data": {
            "image/png": "[encoded data removed]",
            "text/plain": [
              "<Figure size 432x288 with 1 Axes>"
            ]
          },
          "metadata": {
            "tags": [],
            "needs_background": "light"
          }
        }
      ]
    },
    {
      "cell_type": "markdown",
      "metadata": {
        "id": "bH87gsFk2CkW",
        "colab_type": "text"
      },
      "source": [
        "# 9. Conclusion"
      ]
    },
    {
      "cell_type": "markdown",
      "metadata": {
        "id": "pcK2D0632Bby",
        "colab_type": "text"
      },
      "source": [
        "This project schowcases an attempt to build an algorithm, which would predict necessary diagnostics for a patient based on his anamnesis. Two models are compared (Logistic Regression and CNN). From basic f1-score of around 0.32 using logistic regression, it was managed to increase capability of the algorithm up to nearly 0.60 using Smote Over sampling.\n",
        "CNN was capable of producing an F1 score of 0.83 when compared to logistic model without any such sampling.\n",
        "Although, it barely can be used in real-life diagnostics, it is a minor step in helping out with some minor adjuscent fields. Analysing some popular words-triggers for different diseases in scientific or applied purposes, optimisation of medical facility schedule or a way of preliminary patient analysis could be done in order to desrease the list of potential diagnostics.\n",
        "\n"
      ]
    }
  ]
}